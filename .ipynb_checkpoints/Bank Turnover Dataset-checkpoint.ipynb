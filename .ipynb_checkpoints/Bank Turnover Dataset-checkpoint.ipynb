{
 "cells": [
  {
   "cell_type": "markdown",
   "metadata": {
    "toc": true
   },
   "source": [
    "<h1>Содержание<span class=\"tocSkip\"></span></h1>\n",
    "<div class=\"toc\"><ul class=\"toc-item\"><li><span><a href=\"#Подготовка-данных\" data-toc-modified-id=\"Подготовка-данных-1\"><span class=\"toc-item-num\">1&nbsp;&nbsp;</span>Подготовка данных</a></span></li><li><span><a href=\"#Исследование-задачи\" data-toc-modified-id=\"Исследование-задачи-2\"><span class=\"toc-item-num\">2&nbsp;&nbsp;</span>Исследование задачи</a></span></li><li><span><a href=\"#Борьба-с-дисбалансом\" data-toc-modified-id=\"Борьба-с-дисбалансом-3\"><span class=\"toc-item-num\">3&nbsp;&nbsp;</span>Борьба с дисбалансом</a></span></li><li><span><a href=\"#Тестирование-модели\" data-toc-modified-id=\"Тестирование-модели-4\"><span class=\"toc-item-num\">4&nbsp;&nbsp;</span>Тестирование модели</a></span></li><li><span><a href=\"#Чек-лист-готовности-проекта\" data-toc-modified-id=\"Чек-лист-готовности-проекта-5\"><span class=\"toc-item-num\">5&nbsp;&nbsp;</span>Чек-лист готовности проекта</a></span></li></ul></div>"
   ]
  },
  {
   "cell_type": "markdown",
   "metadata": {},
   "source": [
    "# Отток клиентов"
   ]
  },
  {
   "cell_type": "markdown",
   "metadata": {},
   "source": [
    "Из «Бета-Банка» стали уходить клиенты. Каждый месяц. Немного, но заметно. Банковские маркетологи посчитали: сохранять текущих клиентов дешевле, чем привлекать новых.\n",
    "\n",
    "Нужно спрогнозировать, уйдёт клиент из банка в ближайшее время или нет. Вам предоставлены исторические данные о поведении клиентов и расторжении договоров с банком. \n",
    "\n",
    "Постройте модель с предельно большим значением *F1*-меры. Чтобы сдать проект успешно, нужно довести метрику до 0.59. Проверьте *F1*-меру на тестовой выборке самостоятельно.\n",
    "\n",
    "Дополнительно измеряйте *AUC-ROC*, сравнивайте её значение с *F1*-мерой.\n",
    "\n",
    "Источник данных: [https://www.kaggle.com/barelydedicated/bank-customer-churn-modeling](https://www.kaggle.com/barelydedicated/bank-customer-churn-modeling)"
   ]
  },
  {
   "cell_type": "markdown",
   "metadata": {},
   "source": [
    "<h1>Признаки<span class=\"tocSkip\"></span></h1> \n",
    "\n",
    "\n",
    "\n",
    "- RowNumber — индекс строки в данных\n",
    "- CustomerId — уникальный идентификатор клиента\n",
    "- Surname — фамилия\n",
    "- CreditScore — кредитный рейтинг\n",
    "- Geography — страна проживания\n",
    "- Gender — пол\n",
    "- Age — возраст\n",
    "- Tenure — сколько лет человек является клиентом банка\n",
    "- Balance — баланс на счёте\n",
    "- NumOfProducts — количество продуктов банка, используемых клиентом\n",
    "- HasCrCard — наличие кредитной карты\n",
    "- IsActiveMember — активность клиента\n",
    "- EstimatedSalary — предполагаемая зарплата\n",
    "\n",
    "Целевой признак\n",
    "\n",
    "- Exited — факт ухода клиента </a></span></li></ul></div>"
   ]
  },
  {
   "cell_type": "markdown",
   "metadata": {},
   "source": [
    "Импортируем необходимые библиотеки для работы"
   ]
  },
  {
   "cell_type": "code",
   "execution_count": 1,
   "metadata": {},
   "outputs": [],
   "source": [
    "import pandas as pd\n",
    "import numpy as np\n",
    "import matplotlib as mplt\n",
    "import matplotlib.pyplot as plt\n",
    "import seaborn as sns\n",
    "from scipy import stats as st\n",
    "from sklearn.tree import DecisionTreeClassifier\n",
    "from sklearn.ensemble import RandomForestClassifier\n",
    "from sklearn.linear_model import LogisticRegression\n",
    "from sklearn.model_selection import train_test_split\n",
    "from sklearn.metrics import accuracy_score\n",
    "from sklearn.metrics import mean_squared_error as mse\n",
    "from sklearn.dummy import DummyClassifier\n",
    "from sklearn.model_selection import cross_val_score\n",
    "from sklearn.metrics import f1_score\n",
    "from sklearn.utils import shuffle\n",
    "from sklearn.metrics import accuracy_score\n",
    "from sklearn.metrics import roc_curve\n",
    "from sklearn.metrics import roc_auc_score\n",
    "from sklearn.preprocessing import StandardScaler\n",
    "\n",
    "\n",
    "pd.set_option('display.float_format', '{:,.2f}'.format)"
   ]
  },
  {
   "cell_type": "markdown",
   "metadata": {},
   "source": [
    "## Подготовка данных"
   ]
  },
  {
   "cell_type": "markdown",
   "metadata": {},
   "source": [
    "Загрузим и изучим представленные данные"
   ]
  },
  {
   "cell_type": "code",
   "execution_count": 2,
   "metadata": {},
   "outputs": [],
   "source": [
    "data = pd.read_csv('Churn.csv')"
   ]
  },
  {
   "cell_type": "code",
   "execution_count": 3,
   "metadata": {
    "scrolled": false
   },
   "outputs": [
    {
     "name": "stdout",
     "output_type": "stream",
     "text": [
      "------------- Исходный датафрейм -------------\n"
     ]
    },
    {
     "data": {
      "text/html": [
       "<div>\n",
       "<style scoped>\n",
       "    .dataframe tbody tr th:only-of-type {\n",
       "        vertical-align: middle;\n",
       "    }\n",
       "\n",
       "    .dataframe tbody tr th {\n",
       "        vertical-align: top;\n",
       "    }\n",
       "\n",
       "    .dataframe thead th {\n",
       "        text-align: right;\n",
       "    }\n",
       "</style>\n",
       "<table border=\"1\" class=\"dataframe\">\n",
       "  <thead>\n",
       "    <tr style=\"text-align: right;\">\n",
       "      <th></th>\n",
       "      <th>RowNumber</th>\n",
       "      <th>CustomerId</th>\n",
       "      <th>Surname</th>\n",
       "      <th>CreditScore</th>\n",
       "      <th>Geography</th>\n",
       "      <th>Gender</th>\n",
       "      <th>Age</th>\n",
       "      <th>Tenure</th>\n",
       "      <th>Balance</th>\n",
       "      <th>NumOfProducts</th>\n",
       "      <th>HasCrCard</th>\n",
       "      <th>IsActiveMember</th>\n",
       "      <th>EstimatedSalary</th>\n",
       "      <th>Exited</th>\n",
       "    </tr>\n",
       "  </thead>\n",
       "  <tbody>\n",
       "    <tr>\n",
       "      <th>0</th>\n",
       "      <td>1</td>\n",
       "      <td>15634602</td>\n",
       "      <td>Hargrave</td>\n",
       "      <td>619</td>\n",
       "      <td>France</td>\n",
       "      <td>Female</td>\n",
       "      <td>42</td>\n",
       "      <td>2.00</td>\n",
       "      <td>0.00</td>\n",
       "      <td>1</td>\n",
       "      <td>1</td>\n",
       "      <td>1</td>\n",
       "      <td>101,348.88</td>\n",
       "      <td>1</td>\n",
       "    </tr>\n",
       "    <tr>\n",
       "      <th>1</th>\n",
       "      <td>2</td>\n",
       "      <td>15647311</td>\n",
       "      <td>Hill</td>\n",
       "      <td>608</td>\n",
       "      <td>Spain</td>\n",
       "      <td>Female</td>\n",
       "      <td>41</td>\n",
       "      <td>1.00</td>\n",
       "      <td>83,807.86</td>\n",
       "      <td>1</td>\n",
       "      <td>0</td>\n",
       "      <td>1</td>\n",
       "      <td>112,542.58</td>\n",
       "      <td>0</td>\n",
       "    </tr>\n",
       "    <tr>\n",
       "      <th>2</th>\n",
       "      <td>3</td>\n",
       "      <td>15619304</td>\n",
       "      <td>Onio</td>\n",
       "      <td>502</td>\n",
       "      <td>France</td>\n",
       "      <td>Female</td>\n",
       "      <td>42</td>\n",
       "      <td>8.00</td>\n",
       "      <td>159,660.80</td>\n",
       "      <td>3</td>\n",
       "      <td>1</td>\n",
       "      <td>0</td>\n",
       "      <td>113,931.57</td>\n",
       "      <td>1</td>\n",
       "    </tr>\n",
       "    <tr>\n",
       "      <th>3</th>\n",
       "      <td>4</td>\n",
       "      <td>15701354</td>\n",
       "      <td>Boni</td>\n",
       "      <td>699</td>\n",
       "      <td>France</td>\n",
       "      <td>Female</td>\n",
       "      <td>39</td>\n",
       "      <td>1.00</td>\n",
       "      <td>0.00</td>\n",
       "      <td>2</td>\n",
       "      <td>0</td>\n",
       "      <td>0</td>\n",
       "      <td>93,826.63</td>\n",
       "      <td>0</td>\n",
       "    </tr>\n",
       "    <tr>\n",
       "      <th>4</th>\n",
       "      <td>5</td>\n",
       "      <td>15737888</td>\n",
       "      <td>Mitchell</td>\n",
       "      <td>850</td>\n",
       "      <td>Spain</td>\n",
       "      <td>Female</td>\n",
       "      <td>43</td>\n",
       "      <td>2.00</td>\n",
       "      <td>125,510.82</td>\n",
       "      <td>1</td>\n",
       "      <td>1</td>\n",
       "      <td>1</td>\n",
       "      <td>79,084.10</td>\n",
       "      <td>0</td>\n",
       "    </tr>\n",
       "  </tbody>\n",
       "</table>\n",
       "</div>"
      ],
      "text/plain": [
       "   RowNumber  CustomerId   Surname  CreditScore Geography  Gender  Age  \\\n",
       "0          1    15634602  Hargrave          619    France  Female   42   \n",
       "1          2    15647311      Hill          608     Spain  Female   41   \n",
       "2          3    15619304      Onio          502    France  Female   42   \n",
       "3          4    15701354      Boni          699    France  Female   39   \n",
       "4          5    15737888  Mitchell          850     Spain  Female   43   \n",
       "\n",
       "   Tenure    Balance  NumOfProducts  HasCrCard  IsActiveMember  \\\n",
       "0    2.00       0.00              1          1               1   \n",
       "1    1.00  83,807.86              1          0               1   \n",
       "2    8.00 159,660.80              3          1               0   \n",
       "3    1.00       0.00              2          0               0   \n",
       "4    2.00 125,510.82              1          1               1   \n",
       "\n",
       "   EstimatedSalary  Exited  \n",
       "0       101,348.88       1  \n",
       "1       112,542.58       0  \n",
       "2       113,931.57       1  \n",
       "3        93,826.63       0  \n",
       "4        79,084.10       0  "
      ]
     },
     "metadata": {},
     "output_type": "display_data"
    },
    {
     "data": {
      "text/html": [
       "<div>\n",
       "<style scoped>\n",
       "    .dataframe tbody tr th:only-of-type {\n",
       "        vertical-align: middle;\n",
       "    }\n",
       "\n",
       "    .dataframe tbody tr th {\n",
       "        vertical-align: top;\n",
       "    }\n",
       "\n",
       "    .dataframe thead th {\n",
       "        text-align: right;\n",
       "    }\n",
       "</style>\n",
       "<table border=\"1\" class=\"dataframe\">\n",
       "  <thead>\n",
       "    <tr style=\"text-align: right;\">\n",
       "      <th></th>\n",
       "      <th>RowNumber</th>\n",
       "      <th>CustomerId</th>\n",
       "      <th>Surname</th>\n",
       "      <th>CreditScore</th>\n",
       "      <th>Geography</th>\n",
       "      <th>Gender</th>\n",
       "      <th>Age</th>\n",
       "      <th>Tenure</th>\n",
       "      <th>Balance</th>\n",
       "      <th>NumOfProducts</th>\n",
       "      <th>HasCrCard</th>\n",
       "      <th>IsActiveMember</th>\n",
       "      <th>EstimatedSalary</th>\n",
       "      <th>Exited</th>\n",
       "    </tr>\n",
       "  </thead>\n",
       "  <tbody>\n",
       "    <tr>\n",
       "      <th>9995</th>\n",
       "      <td>9996</td>\n",
       "      <td>15606229</td>\n",
       "      <td>Obijiaku</td>\n",
       "      <td>771</td>\n",
       "      <td>France</td>\n",
       "      <td>Male</td>\n",
       "      <td>39</td>\n",
       "      <td>5.00</td>\n",
       "      <td>0.00</td>\n",
       "      <td>2</td>\n",
       "      <td>1</td>\n",
       "      <td>0</td>\n",
       "      <td>96,270.64</td>\n",
       "      <td>0</td>\n",
       "    </tr>\n",
       "    <tr>\n",
       "      <th>9996</th>\n",
       "      <td>9997</td>\n",
       "      <td>15569892</td>\n",
       "      <td>Johnstone</td>\n",
       "      <td>516</td>\n",
       "      <td>France</td>\n",
       "      <td>Male</td>\n",
       "      <td>35</td>\n",
       "      <td>10.00</td>\n",
       "      <td>57,369.61</td>\n",
       "      <td>1</td>\n",
       "      <td>1</td>\n",
       "      <td>1</td>\n",
       "      <td>101,699.77</td>\n",
       "      <td>0</td>\n",
       "    </tr>\n",
       "    <tr>\n",
       "      <th>9997</th>\n",
       "      <td>9998</td>\n",
       "      <td>15584532</td>\n",
       "      <td>Liu</td>\n",
       "      <td>709</td>\n",
       "      <td>France</td>\n",
       "      <td>Female</td>\n",
       "      <td>36</td>\n",
       "      <td>7.00</td>\n",
       "      <td>0.00</td>\n",
       "      <td>1</td>\n",
       "      <td>0</td>\n",
       "      <td>1</td>\n",
       "      <td>42,085.58</td>\n",
       "      <td>1</td>\n",
       "    </tr>\n",
       "    <tr>\n",
       "      <th>9998</th>\n",
       "      <td>9999</td>\n",
       "      <td>15682355</td>\n",
       "      <td>Sabbatini</td>\n",
       "      <td>772</td>\n",
       "      <td>Germany</td>\n",
       "      <td>Male</td>\n",
       "      <td>42</td>\n",
       "      <td>3.00</td>\n",
       "      <td>75,075.31</td>\n",
       "      <td>2</td>\n",
       "      <td>1</td>\n",
       "      <td>0</td>\n",
       "      <td>92,888.52</td>\n",
       "      <td>1</td>\n",
       "    </tr>\n",
       "    <tr>\n",
       "      <th>9999</th>\n",
       "      <td>10000</td>\n",
       "      <td>15628319</td>\n",
       "      <td>Walker</td>\n",
       "      <td>792</td>\n",
       "      <td>France</td>\n",
       "      <td>Female</td>\n",
       "      <td>28</td>\n",
       "      <td>NaN</td>\n",
       "      <td>130,142.79</td>\n",
       "      <td>1</td>\n",
       "      <td>1</td>\n",
       "      <td>0</td>\n",
       "      <td>38,190.78</td>\n",
       "      <td>0</td>\n",
       "    </tr>\n",
       "  </tbody>\n",
       "</table>\n",
       "</div>"
      ],
      "text/plain": [
       "      RowNumber  CustomerId    Surname  CreditScore Geography  Gender  Age  \\\n",
       "9995       9996    15606229   Obijiaku          771    France    Male   39   \n",
       "9996       9997    15569892  Johnstone          516    France    Male   35   \n",
       "9997       9998    15584532        Liu          709    France  Female   36   \n",
       "9998       9999    15682355  Sabbatini          772   Germany    Male   42   \n",
       "9999      10000    15628319     Walker          792    France  Female   28   \n",
       "\n",
       "      Tenure    Balance  NumOfProducts  HasCrCard  IsActiveMember  \\\n",
       "9995    5.00       0.00              2          1               0   \n",
       "9996   10.00  57,369.61              1          1               1   \n",
       "9997    7.00       0.00              1          0               1   \n",
       "9998    3.00  75,075.31              2          1               0   \n",
       "9999     NaN 130,142.79              1          1               0   \n",
       "\n",
       "      EstimatedSalary  Exited  \n",
       "9995        96,270.64       0  \n",
       "9996       101,699.77       0  \n",
       "9997        42,085.58       1  \n",
       "9998        92,888.52       1  \n",
       "9999        38,190.78       0  "
      ]
     },
     "metadata": {},
     "output_type": "display_data"
    },
    {
     "name": "stdout",
     "output_type": "stream",
     "text": [
      "\n",
      "\n",
      "------------- Общая информация о датафрейме -------------\n",
      "\n",
      "\n",
      "<class 'pandas.core.frame.DataFrame'>\n",
      "RangeIndex: 10000 entries, 0 to 9999\n",
      "Data columns (total 14 columns):\n",
      " #   Column           Non-Null Count  Dtype  \n",
      "---  ------           --------------  -----  \n",
      " 0   RowNumber        10000 non-null  int64  \n",
      " 1   CustomerId       10000 non-null  int64  \n",
      " 2   Surname          10000 non-null  object \n",
      " 3   CreditScore      10000 non-null  int64  \n",
      " 4   Geography        10000 non-null  object \n",
      " 5   Gender           10000 non-null  object \n",
      " 6   Age              10000 non-null  int64  \n",
      " 7   Tenure           9091 non-null   float64\n",
      " 8   Balance          10000 non-null  float64\n",
      " 9   NumOfProducts    10000 non-null  int64  \n",
      " 10  HasCrCard        10000 non-null  int64  \n",
      " 11  IsActiveMember   10000 non-null  int64  \n",
      " 12  EstimatedSalary  10000 non-null  float64\n",
      " 13  Exited           10000 non-null  int64  \n",
      "dtypes: float64(3), int64(8), object(3)\n",
      "memory usage: 1.1+ MB\n"
     ]
    },
    {
     "data": {
      "text/plain": [
       "None"
      ]
     },
     "metadata": {},
     "output_type": "display_data"
    },
    {
     "name": "stdout",
     "output_type": "stream",
     "text": [
      "------------- Количество пустых значений в датафрейме -------------\n",
      "\n",
      "\n"
     ]
    },
    {
     "data": {
      "text/plain": [
       "RowNumber            0\n",
       "CustomerId           0\n",
       "Surname              0\n",
       "CreditScore          0\n",
       "Geography            0\n",
       "Gender               0\n",
       "Age                  0\n",
       "Tenure             909\n",
       "Balance              0\n",
       "NumOfProducts        0\n",
       "HasCrCard            0\n",
       "IsActiveMember       0\n",
       "EstimatedSalary      0\n",
       "Exited               0\n",
       "dtype: int64"
      ]
     },
     "metadata": {},
     "output_type": "display_data"
    },
    {
     "name": "stdout",
     "output_type": "stream",
     "text": [
      "------------- Количество явных дубликатов в датафрейме -------------\n"
     ]
    },
    {
     "data": {
      "text/plain": [
       "0"
      ]
     },
     "metadata": {},
     "output_type": "display_data"
    },
    {
     "name": "stdout",
     "output_type": "stream",
     "text": [
      "\n",
      "\n",
      "------------- Описательная статистика -------------\n"
     ]
    },
    {
     "data": {
      "text/html": [
       "<div>\n",
       "<style scoped>\n",
       "    .dataframe tbody tr th:only-of-type {\n",
       "        vertical-align: middle;\n",
       "    }\n",
       "\n",
       "    .dataframe tbody tr th {\n",
       "        vertical-align: top;\n",
       "    }\n",
       "\n",
       "    .dataframe thead th {\n",
       "        text-align: right;\n",
       "    }\n",
       "</style>\n",
       "<table border=\"1\" class=\"dataframe\">\n",
       "  <thead>\n",
       "    <tr style=\"text-align: right;\">\n",
       "      <th></th>\n",
       "      <th>RowNumber</th>\n",
       "      <th>CustomerId</th>\n",
       "      <th>CreditScore</th>\n",
       "      <th>Age</th>\n",
       "      <th>Tenure</th>\n",
       "      <th>Balance</th>\n",
       "      <th>NumOfProducts</th>\n",
       "      <th>HasCrCard</th>\n",
       "      <th>IsActiveMember</th>\n",
       "      <th>EstimatedSalary</th>\n",
       "      <th>Exited</th>\n",
       "    </tr>\n",
       "  </thead>\n",
       "  <tbody>\n",
       "    <tr>\n",
       "      <th>count</th>\n",
       "      <td>10,000.00</td>\n",
       "      <td>10,000.00</td>\n",
       "      <td>10,000.00</td>\n",
       "      <td>10,000.00</td>\n",
       "      <td>9,091.00</td>\n",
       "      <td>10,000.00</td>\n",
       "      <td>10,000.00</td>\n",
       "      <td>10,000.00</td>\n",
       "      <td>10,000.00</td>\n",
       "      <td>10,000.00</td>\n",
       "      <td>10,000.00</td>\n",
       "    </tr>\n",
       "    <tr>\n",
       "      <th>mean</th>\n",
       "      <td>5,000.50</td>\n",
       "      <td>15,690,940.57</td>\n",
       "      <td>650.53</td>\n",
       "      <td>38.92</td>\n",
       "      <td>5.00</td>\n",
       "      <td>76,485.89</td>\n",
       "      <td>1.53</td>\n",
       "      <td>0.71</td>\n",
       "      <td>0.52</td>\n",
       "      <td>100,090.24</td>\n",
       "      <td>0.20</td>\n",
       "    </tr>\n",
       "    <tr>\n",
       "      <th>std</th>\n",
       "      <td>2,886.90</td>\n",
       "      <td>71,936.19</td>\n",
       "      <td>96.65</td>\n",
       "      <td>10.49</td>\n",
       "      <td>2.89</td>\n",
       "      <td>62,397.41</td>\n",
       "      <td>0.58</td>\n",
       "      <td>0.46</td>\n",
       "      <td>0.50</td>\n",
       "      <td>57,510.49</td>\n",
       "      <td>0.40</td>\n",
       "    </tr>\n",
       "    <tr>\n",
       "      <th>min</th>\n",
       "      <td>1.00</td>\n",
       "      <td>15,565,701.00</td>\n",
       "      <td>350.00</td>\n",
       "      <td>18.00</td>\n",
       "      <td>0.00</td>\n",
       "      <td>0.00</td>\n",
       "      <td>1.00</td>\n",
       "      <td>0.00</td>\n",
       "      <td>0.00</td>\n",
       "      <td>11.58</td>\n",
       "      <td>0.00</td>\n",
       "    </tr>\n",
       "    <tr>\n",
       "      <th>25%</th>\n",
       "      <td>2,500.75</td>\n",
       "      <td>15,628,528.25</td>\n",
       "      <td>584.00</td>\n",
       "      <td>32.00</td>\n",
       "      <td>2.00</td>\n",
       "      <td>0.00</td>\n",
       "      <td>1.00</td>\n",
       "      <td>0.00</td>\n",
       "      <td>0.00</td>\n",
       "      <td>51,002.11</td>\n",
       "      <td>0.00</td>\n",
       "    </tr>\n",
       "    <tr>\n",
       "      <th>50%</th>\n",
       "      <td>5,000.50</td>\n",
       "      <td>15,690,738.00</td>\n",
       "      <td>652.00</td>\n",
       "      <td>37.00</td>\n",
       "      <td>5.00</td>\n",
       "      <td>97,198.54</td>\n",
       "      <td>1.00</td>\n",
       "      <td>1.00</td>\n",
       "      <td>1.00</td>\n",
       "      <td>100,193.91</td>\n",
       "      <td>0.00</td>\n",
       "    </tr>\n",
       "    <tr>\n",
       "      <th>75%</th>\n",
       "      <td>7,500.25</td>\n",
       "      <td>15,753,233.75</td>\n",
       "      <td>718.00</td>\n",
       "      <td>44.00</td>\n",
       "      <td>7.00</td>\n",
       "      <td>127,644.24</td>\n",
       "      <td>2.00</td>\n",
       "      <td>1.00</td>\n",
       "      <td>1.00</td>\n",
       "      <td>149,388.25</td>\n",
       "      <td>0.00</td>\n",
       "    </tr>\n",
       "    <tr>\n",
       "      <th>max</th>\n",
       "      <td>10,000.00</td>\n",
       "      <td>15,815,690.00</td>\n",
       "      <td>850.00</td>\n",
       "      <td>92.00</td>\n",
       "      <td>10.00</td>\n",
       "      <td>250,898.09</td>\n",
       "      <td>4.00</td>\n",
       "      <td>1.00</td>\n",
       "      <td>1.00</td>\n",
       "      <td>199,992.48</td>\n",
       "      <td>1.00</td>\n",
       "    </tr>\n",
       "  </tbody>\n",
       "</table>\n",
       "</div>"
      ],
      "text/plain": [
       "       RowNumber    CustomerId  CreditScore       Age   Tenure    Balance  \\\n",
       "count  10,000.00     10,000.00    10,000.00 10,000.00 9,091.00  10,000.00   \n",
       "mean    5,000.50 15,690,940.57       650.53     38.92     5.00  76,485.89   \n",
       "std     2,886.90     71,936.19        96.65     10.49     2.89  62,397.41   \n",
       "min         1.00 15,565,701.00       350.00     18.00     0.00       0.00   \n",
       "25%     2,500.75 15,628,528.25       584.00     32.00     2.00       0.00   \n",
       "50%     5,000.50 15,690,738.00       652.00     37.00     5.00  97,198.54   \n",
       "75%     7,500.25 15,753,233.75       718.00     44.00     7.00 127,644.24   \n",
       "max    10,000.00 15,815,690.00       850.00     92.00    10.00 250,898.09   \n",
       "\n",
       "       NumOfProducts  HasCrCard  IsActiveMember  EstimatedSalary    Exited  \n",
       "count      10,000.00  10,000.00       10,000.00        10,000.00 10,000.00  \n",
       "mean            1.53       0.71            0.52       100,090.24      0.20  \n",
       "std             0.58       0.46            0.50        57,510.49      0.40  \n",
       "min             1.00       0.00            0.00            11.58      0.00  \n",
       "25%             1.00       0.00            0.00        51,002.11      0.00  \n",
       "50%             1.00       1.00            1.00       100,193.91      0.00  \n",
       "75%             2.00       1.00            1.00       149,388.25      0.00  \n",
       "max             4.00       1.00            1.00       199,992.48      1.00  "
      ]
     },
     "metadata": {},
     "output_type": "display_data"
    },
    {
     "name": "stdout",
     "output_type": "stream",
     "text": [
      "\n",
      "\n",
      "------------- Размер датасета -------------\n"
     ]
    },
    {
     "data": {
      "text/plain": [
       "(10000, 14)"
      ]
     },
     "metadata": {},
     "output_type": "display_data"
    }
   ],
   "source": [
    "def my_func(x):\n",
    "    print('------------- Исходный датафрейм -------------')\n",
    "    display(x.head())\n",
    "    display(x.tail())\n",
    "    print('')\n",
    "    print('')\n",
    "    print('------------- Общая информация о датафрейме -------------')\n",
    "    print('')\n",
    "    print('')\n",
    "    display(x.info())\n",
    "    print('------------- Количество пустых значений в датафрейме -------------')\n",
    "    print('')\n",
    "    print('')\n",
    "    display(x.isna().sum())\n",
    "    print('------------- Количество явных дубликатов в датафрейме -------------')\n",
    "    display(x.duplicated().sum())\n",
    "    print('')\n",
    "    print('')\n",
    "    print('------------- Описательная статистика -------------')\n",
    "    display(x.describe())\n",
    "    print('')\n",
    "    print('')\n",
    "    print('------------- Размер датасета -------------')\n",
    "    display(x.shape)\n",
    "    \n",
    "data = pd.read_csv('Churn.csv')\n",
    "my_func(data)"
   ]
  },
  {
   "cell_type": "markdown",
   "metadata": {},
   "source": [
    "Из представленных данных видно, что столбцы нужно привести к правильному(змеиному) формату,изучить столбец Tunure на кол-во пропущенных значений и перевести его в другой формат, явных дубликатов не обнаружено, аномальных выбросов на данном этапе не видно, размер датасета 10000 на 14\n",
    "Также, можно избавиться от столбца RowNUmber,Customerid и Surname, они не нужны для анализа."
   ]
  },
  {
   "cell_type": "code",
   "execution_count": 4,
   "metadata": {},
   "outputs": [],
   "source": [
    "data = data.drop(['RowNumber', 'CustomerId', 'Surname'], axis=1)"
   ]
  },
  {
   "cell_type": "code",
   "execution_count": 5,
   "metadata": {},
   "outputs": [
    {
     "data": {
      "text/plain": [
       "(10000, 11)"
      ]
     },
     "execution_count": 5,
     "metadata": {},
     "output_type": "execute_result"
    }
   ],
   "source": [
    "data.shape"
   ]
  },
  {
   "cell_type": "code",
   "execution_count": 6,
   "metadata": {},
   "outputs": [
    {
     "data": {
      "text/plain": [
       "Index(['creditscore', 'geography', 'gender', 'age', 'tenure', 'balance',\n",
       "       'numofproducts', 'hascrcard', 'isactivemember', 'estimatedsalary',\n",
       "       'exited'],\n",
       "      dtype='object')"
      ]
     },
     "execution_count": 6,
     "metadata": {},
     "output_type": "execute_result"
    }
   ],
   "source": [
    "data.columns = data.columns.str.lower()\n",
    "data.columns"
   ]
  },
  {
   "cell_type": "code",
   "execution_count": 7,
   "metadata": {
    "scrolled": true
   },
   "outputs": [
    {
     "data": {
      "text/html": [
       "<div>\n",
       "<style scoped>\n",
       "    .dataframe tbody tr th:only-of-type {\n",
       "        vertical-align: middle;\n",
       "    }\n",
       "\n",
       "    .dataframe tbody tr th {\n",
       "        vertical-align: top;\n",
       "    }\n",
       "\n",
       "    .dataframe thead th {\n",
       "        text-align: right;\n",
       "    }\n",
       "</style>\n",
       "<table border=\"1\" class=\"dataframe\">\n",
       "  <thead>\n",
       "    <tr style=\"text-align: right;\">\n",
       "      <th></th>\n",
       "      <th>credit_score</th>\n",
       "      <th>geography</th>\n",
       "      <th>gender</th>\n",
       "      <th>age</th>\n",
       "      <th>tenure</th>\n",
       "      <th>balance</th>\n",
       "      <th>num_of_products</th>\n",
       "      <th>has_cr_card</th>\n",
       "      <th>is_active_member</th>\n",
       "      <th>estimated_salary</th>\n",
       "      <th>exited</th>\n",
       "    </tr>\n",
       "  </thead>\n",
       "  <tbody>\n",
       "    <tr>\n",
       "      <th>0</th>\n",
       "      <td>619</td>\n",
       "      <td>France</td>\n",
       "      <td>Female</td>\n",
       "      <td>42</td>\n",
       "      <td>2.00</td>\n",
       "      <td>0.00</td>\n",
       "      <td>1</td>\n",
       "      <td>1</td>\n",
       "      <td>1</td>\n",
       "      <td>101,348.88</td>\n",
       "      <td>1</td>\n",
       "    </tr>\n",
       "    <tr>\n",
       "      <th>1</th>\n",
       "      <td>608</td>\n",
       "      <td>Spain</td>\n",
       "      <td>Female</td>\n",
       "      <td>41</td>\n",
       "      <td>1.00</td>\n",
       "      <td>83,807.86</td>\n",
       "      <td>1</td>\n",
       "      <td>0</td>\n",
       "      <td>1</td>\n",
       "      <td>112,542.58</td>\n",
       "      <td>0</td>\n",
       "    </tr>\n",
       "    <tr>\n",
       "      <th>2</th>\n",
       "      <td>502</td>\n",
       "      <td>France</td>\n",
       "      <td>Female</td>\n",
       "      <td>42</td>\n",
       "      <td>8.00</td>\n",
       "      <td>159,660.80</td>\n",
       "      <td>3</td>\n",
       "      <td>1</td>\n",
       "      <td>0</td>\n",
       "      <td>113,931.57</td>\n",
       "      <td>1</td>\n",
       "    </tr>\n",
       "    <tr>\n",
       "      <th>3</th>\n",
       "      <td>699</td>\n",
       "      <td>France</td>\n",
       "      <td>Female</td>\n",
       "      <td>39</td>\n",
       "      <td>1.00</td>\n",
       "      <td>0.00</td>\n",
       "      <td>2</td>\n",
       "      <td>0</td>\n",
       "      <td>0</td>\n",
       "      <td>93,826.63</td>\n",
       "      <td>0</td>\n",
       "    </tr>\n",
       "    <tr>\n",
       "      <th>4</th>\n",
       "      <td>850</td>\n",
       "      <td>Spain</td>\n",
       "      <td>Female</td>\n",
       "      <td>43</td>\n",
       "      <td>2.00</td>\n",
       "      <td>125,510.82</td>\n",
       "      <td>1</td>\n",
       "      <td>1</td>\n",
       "      <td>1</td>\n",
       "      <td>79,084.10</td>\n",
       "      <td>0</td>\n",
       "    </tr>\n",
       "  </tbody>\n",
       "</table>\n",
       "</div>"
      ],
      "text/plain": [
       "   credit_score geography  gender  age  tenure    balance  num_of_products  \\\n",
       "0           619    France  Female   42    2.00       0.00                1   \n",
       "1           608     Spain  Female   41    1.00  83,807.86                1   \n",
       "2           502    France  Female   42    8.00 159,660.80                3   \n",
       "3           699    France  Female   39    1.00       0.00                2   \n",
       "4           850     Spain  Female   43    2.00 125,510.82                1   \n",
       "\n",
       "   has_cr_card  is_active_member  estimated_salary  exited  \n",
       "0            1                 1        101,348.88       1  \n",
       "1            0                 1        112,542.58       0  \n",
       "2            1                 0        113,931.57       1  \n",
       "3            0                 0         93,826.63       0  \n",
       "4            1                 1         79,084.10       0  "
      ]
     },
     "execution_count": 7,
     "metadata": {},
     "output_type": "execute_result"
    }
   ],
   "source": [
    "data = data.rename(columns={ 'creditscore':'credit_score',\n",
    "       'numofproducts':'num_of_products', 'hascrcard':'has_cr_card',\n",
    "       'isactivemember':'is_active_member', 'estimatedsalary':'estimated_salary'})\n",
    "data.head()"
   ]
  },
  {
   "cell_type": "markdown",
   "metadata": {},
   "source": [
    "видно, что доля в столбце tenure не очень высокая, порядка 1,5-2 %, в всязи с чем можно заменить их на ноль или избавиться от них вовсе. я заменю на ноль, будем считать, что клиент только появился. также переведем данный столбец в расширение int "
   ]
  },
  {
   "cell_type": "code",
   "execution_count": 8,
   "metadata": {},
   "outputs": [],
   "source": [
    "data['tenure'] = data['tenure'].fillna(0)\n",
    "data['tenure'] = data['tenure'].astype('int')"
   ]
  },
  {
   "cell_type": "code",
   "execution_count": 9,
   "metadata": {
    "scrolled": true
   },
   "outputs": [
    {
     "data": {
      "text/plain": [
       "0"
      ]
     },
     "metadata": {},
     "output_type": "display_data"
    },
    {
     "name": "stdout",
     "output_type": "stream",
     "text": [
      "<class 'pandas.core.frame.DataFrame'>\n",
      "RangeIndex: 10000 entries, 0 to 9999\n",
      "Data columns (total 11 columns):\n",
      " #   Column            Non-Null Count  Dtype  \n",
      "---  ------            --------------  -----  \n",
      " 0   credit_score      10000 non-null  int64  \n",
      " 1   geography         10000 non-null  object \n",
      " 2   gender            10000 non-null  object \n",
      " 3   age               10000 non-null  int64  \n",
      " 4   tenure            10000 non-null  int32  \n",
      " 5   balance           10000 non-null  float64\n",
      " 6   num_of_products   10000 non-null  int64  \n",
      " 7   has_cr_card       10000 non-null  int64  \n",
      " 8   is_active_member  10000 non-null  int64  \n",
      " 9   estimated_salary  10000 non-null  float64\n",
      " 10  exited            10000 non-null  int64  \n",
      "dtypes: float64(2), int32(1), int64(6), object(2)\n",
      "memory usage: 820.4+ KB\n"
     ]
    },
    {
     "data": {
      "text/plain": [
       "None"
      ]
     },
     "metadata": {},
     "output_type": "display_data"
    }
   ],
   "source": [
    "display(data['tenure'].isna().sum())\n",
    "display(data.info())"
   ]
  },
  {
   "cell_type": "markdown",
   "metadata": {},
   "source": [
    "отлично, убрали пропуски и сохранили кол-во строк, а также перевели столбец в int, все столбцы привели в божейский вид"
   ]
  },
  {
   "cell_type": "markdown",
   "metadata": {},
   "source": [
    "просмотрим кол-во уникальных значений в столбцах gender и geography "
   ]
  },
  {
   "cell_type": "code",
   "execution_count": 10,
   "metadata": {},
   "outputs": [
    {
     "data": {
      "text/plain": [
       "array(['France', 'Spain', 'Germany'], dtype=object)"
      ]
     },
     "metadata": {},
     "output_type": "display_data"
    },
    {
     "data": {
      "text/plain": [
       "array(['Female', 'Male'], dtype=object)"
      ]
     },
     "metadata": {},
     "output_type": "display_data"
    }
   ],
   "source": [
    "display(data['geography'].unique())\n",
    "display(data['gender'].unique())"
   ]
  },
  {
   "cell_type": "markdown",
   "metadata": {},
   "source": [
    "применим ко всему датусету One-Hot Encoding , что бы не попасть в дамми ловушку"
   ]
  },
  {
   "cell_type": "code",
   "execution_count": 11,
   "metadata": {
    "scrolled": true
   },
   "outputs": [
    {
     "data": {
      "text/html": [
       "<div>\n",
       "<style scoped>\n",
       "    .dataframe tbody tr th:only-of-type {\n",
       "        vertical-align: middle;\n",
       "    }\n",
       "\n",
       "    .dataframe tbody tr th {\n",
       "        vertical-align: top;\n",
       "    }\n",
       "\n",
       "    .dataframe thead th {\n",
       "        text-align: right;\n",
       "    }\n",
       "</style>\n",
       "<table border=\"1\" class=\"dataframe\">\n",
       "  <thead>\n",
       "    <tr style=\"text-align: right;\">\n",
       "      <th></th>\n",
       "      <th>credit_score</th>\n",
       "      <th>age</th>\n",
       "      <th>tenure</th>\n",
       "      <th>balance</th>\n",
       "      <th>num_of_products</th>\n",
       "      <th>has_cr_card</th>\n",
       "      <th>is_active_member</th>\n",
       "      <th>estimated_salary</th>\n",
       "      <th>exited</th>\n",
       "      <th>geography_Germany</th>\n",
       "      <th>geography_Spain</th>\n",
       "      <th>gender_Male</th>\n",
       "    </tr>\n",
       "  </thead>\n",
       "  <tbody>\n",
       "    <tr>\n",
       "      <th>0</th>\n",
       "      <td>619</td>\n",
       "      <td>42</td>\n",
       "      <td>2</td>\n",
       "      <td>0.00</td>\n",
       "      <td>1</td>\n",
       "      <td>1</td>\n",
       "      <td>1</td>\n",
       "      <td>101,348.88</td>\n",
       "      <td>1</td>\n",
       "      <td>False</td>\n",
       "      <td>False</td>\n",
       "      <td>False</td>\n",
       "    </tr>\n",
       "    <tr>\n",
       "      <th>1</th>\n",
       "      <td>608</td>\n",
       "      <td>41</td>\n",
       "      <td>1</td>\n",
       "      <td>83,807.86</td>\n",
       "      <td>1</td>\n",
       "      <td>0</td>\n",
       "      <td>1</td>\n",
       "      <td>112,542.58</td>\n",
       "      <td>0</td>\n",
       "      <td>False</td>\n",
       "      <td>True</td>\n",
       "      <td>False</td>\n",
       "    </tr>\n",
       "    <tr>\n",
       "      <th>2</th>\n",
       "      <td>502</td>\n",
       "      <td>42</td>\n",
       "      <td>8</td>\n",
       "      <td>159,660.80</td>\n",
       "      <td>3</td>\n",
       "      <td>1</td>\n",
       "      <td>0</td>\n",
       "      <td>113,931.57</td>\n",
       "      <td>1</td>\n",
       "      <td>False</td>\n",
       "      <td>False</td>\n",
       "      <td>False</td>\n",
       "    </tr>\n",
       "    <tr>\n",
       "      <th>3</th>\n",
       "      <td>699</td>\n",
       "      <td>39</td>\n",
       "      <td>1</td>\n",
       "      <td>0.00</td>\n",
       "      <td>2</td>\n",
       "      <td>0</td>\n",
       "      <td>0</td>\n",
       "      <td>93,826.63</td>\n",
       "      <td>0</td>\n",
       "      <td>False</td>\n",
       "      <td>False</td>\n",
       "      <td>False</td>\n",
       "    </tr>\n",
       "    <tr>\n",
       "      <th>4</th>\n",
       "      <td>850</td>\n",
       "      <td>43</td>\n",
       "      <td>2</td>\n",
       "      <td>125,510.82</td>\n",
       "      <td>1</td>\n",
       "      <td>1</td>\n",
       "      <td>1</td>\n",
       "      <td>79,084.10</td>\n",
       "      <td>0</td>\n",
       "      <td>False</td>\n",
       "      <td>True</td>\n",
       "      <td>False</td>\n",
       "    </tr>\n",
       "  </tbody>\n",
       "</table>\n",
       "</div>"
      ],
      "text/plain": [
       "   credit_score  age  tenure    balance  num_of_products  has_cr_card  \\\n",
       "0           619   42       2       0.00                1            1   \n",
       "1           608   41       1  83,807.86                1            0   \n",
       "2           502   42       8 159,660.80                3            1   \n",
       "3           699   39       1       0.00                2            0   \n",
       "4           850   43       2 125,510.82                1            1   \n",
       "\n",
       "   is_active_member  estimated_salary  exited  geography_Germany  \\\n",
       "0                 1        101,348.88       1              False   \n",
       "1                 1        112,542.58       0              False   \n",
       "2                 0        113,931.57       1              False   \n",
       "3                 0         93,826.63       0              False   \n",
       "4                 1         79,084.10       0              False   \n",
       "\n",
       "   geography_Spain  gender_Male  \n",
       "0            False        False  \n",
       "1             True        False  \n",
       "2            False        False  \n",
       "3            False        False  \n",
       "4             True        False  "
      ]
     },
     "metadata": {},
     "output_type": "display_data"
    },
    {
     "data": {
      "text/plain": [
       "(10000, 12)"
      ]
     },
     "metadata": {},
     "output_type": "display_data"
    }
   ],
   "source": [
    "data_ohe = pd.get_dummies(data, drop_first=True)\n",
    "display(data_ohe.head())\n",
    "display(data_ohe.shape)"
   ]
  },
  {
   "cell_type": "code",
   "execution_count": 12,
   "metadata": {},
   "outputs": [],
   "source": [
    "data_ohe = data_ohe.rename(columns={ 'geography_Germany':'geography_germany',\n",
    "       'geography_Spain':'geography_spain', 'gender_Male':'gender_male'})"
   ]
  },
  {
   "cell_type": "markdown",
   "metadata": {},
   "source": [
    "после испоьзования OHE, кол-во столбцов стало 12"
   ]
  },
  {
   "cell_type": "code",
   "execution_count": 13,
   "metadata": {},
   "outputs": [
    {
     "data": {
      "text/html": [
       "<div>\n",
       "<style scoped>\n",
       "    .dataframe tbody tr th:only-of-type {\n",
       "        vertical-align: middle;\n",
       "    }\n",
       "\n",
       "    .dataframe tbody tr th {\n",
       "        vertical-align: top;\n",
       "    }\n",
       "\n",
       "    .dataframe thead th {\n",
       "        text-align: right;\n",
       "    }\n",
       "</style>\n",
       "<table border=\"1\" class=\"dataframe\">\n",
       "  <thead>\n",
       "    <tr style=\"text-align: right;\">\n",
       "      <th></th>\n",
       "      <th>credit_score</th>\n",
       "      <th>age</th>\n",
       "      <th>tenure</th>\n",
       "      <th>balance</th>\n",
       "      <th>num_of_products</th>\n",
       "      <th>has_cr_card</th>\n",
       "      <th>is_active_member</th>\n",
       "      <th>estimated_salary</th>\n",
       "      <th>exited</th>\n",
       "      <th>geography_germany</th>\n",
       "      <th>geography_spain</th>\n",
       "      <th>gender_male</th>\n",
       "    </tr>\n",
       "  </thead>\n",
       "  <tbody>\n",
       "    <tr>\n",
       "      <th>0</th>\n",
       "      <td>619</td>\n",
       "      <td>42</td>\n",
       "      <td>2</td>\n",
       "      <td>0.00</td>\n",
       "      <td>1</td>\n",
       "      <td>1</td>\n",
       "      <td>1</td>\n",
       "      <td>101,348.88</td>\n",
       "      <td>1</td>\n",
       "      <td>False</td>\n",
       "      <td>False</td>\n",
       "      <td>False</td>\n",
       "    </tr>\n",
       "    <tr>\n",
       "      <th>1</th>\n",
       "      <td>608</td>\n",
       "      <td>41</td>\n",
       "      <td>1</td>\n",
       "      <td>83,807.86</td>\n",
       "      <td>1</td>\n",
       "      <td>0</td>\n",
       "      <td>1</td>\n",
       "      <td>112,542.58</td>\n",
       "      <td>0</td>\n",
       "      <td>False</td>\n",
       "      <td>True</td>\n",
       "      <td>False</td>\n",
       "    </tr>\n",
       "    <tr>\n",
       "      <th>2</th>\n",
       "      <td>502</td>\n",
       "      <td>42</td>\n",
       "      <td>8</td>\n",
       "      <td>159,660.80</td>\n",
       "      <td>3</td>\n",
       "      <td>1</td>\n",
       "      <td>0</td>\n",
       "      <td>113,931.57</td>\n",
       "      <td>1</td>\n",
       "      <td>False</td>\n",
       "      <td>False</td>\n",
       "      <td>False</td>\n",
       "    </tr>\n",
       "    <tr>\n",
       "      <th>3</th>\n",
       "      <td>699</td>\n",
       "      <td>39</td>\n",
       "      <td>1</td>\n",
       "      <td>0.00</td>\n",
       "      <td>2</td>\n",
       "      <td>0</td>\n",
       "      <td>0</td>\n",
       "      <td>93,826.63</td>\n",
       "      <td>0</td>\n",
       "      <td>False</td>\n",
       "      <td>False</td>\n",
       "      <td>False</td>\n",
       "    </tr>\n",
       "    <tr>\n",
       "      <th>4</th>\n",
       "      <td>850</td>\n",
       "      <td>43</td>\n",
       "      <td>2</td>\n",
       "      <td>125,510.82</td>\n",
       "      <td>1</td>\n",
       "      <td>1</td>\n",
       "      <td>1</td>\n",
       "      <td>79,084.10</td>\n",
       "      <td>0</td>\n",
       "      <td>False</td>\n",
       "      <td>True</td>\n",
       "      <td>False</td>\n",
       "    </tr>\n",
       "  </tbody>\n",
       "</table>\n",
       "</div>"
      ],
      "text/plain": [
       "   credit_score  age  tenure    balance  num_of_products  has_cr_card  \\\n",
       "0           619   42       2       0.00                1            1   \n",
       "1           608   41       1  83,807.86                1            0   \n",
       "2           502   42       8 159,660.80                3            1   \n",
       "3           699   39       1       0.00                2            0   \n",
       "4           850   43       2 125,510.82                1            1   \n",
       "\n",
       "   is_active_member  estimated_salary  exited  geography_germany  \\\n",
       "0                 1        101,348.88       1              False   \n",
       "1                 1        112,542.58       0              False   \n",
       "2                 0        113,931.57       1              False   \n",
       "3                 0         93,826.63       0              False   \n",
       "4                 1         79,084.10       0              False   \n",
       "\n",
       "   geography_spain  gender_male  \n",
       "0            False        False  \n",
       "1             True        False  \n",
       "2            False        False  \n",
       "3            False        False  \n",
       "4             True        False  "
      ]
     },
     "execution_count": 13,
     "metadata": {},
     "output_type": "execute_result"
    }
   ],
   "source": [
    "data_ohe.head()"
   ]
  },
  {
   "cell_type": "markdown",
   "metadata": {},
   "source": [
    "подитог:\n",
    "1) преобразовали название столбцов в правильный вид\n",
    "2) избавились от пропусков в столбце tenure и преобразовали данные в формат int\n",
    "3) убрали столбцы 'RowNumber', 'CustomerId', 'Surname', т.к. они не нужны для анализа\n",
    "4) преобразовали данные методом OHE"
   ]
  },
  {
   "cell_type": "markdown",
   "metadata": {},
   "source": [
    "## Исследование задачи"
   ]
  },
  {
   "cell_type": "markdown",
   "metadata": {},
   "source": [
    "Для исследования разделим на три выборки: обучающую,валидационную и тестовую"
   ]
  },
  {
   "cell_type": "code",
   "execution_count": 14,
   "metadata": {},
   "outputs": [],
   "source": [
    "target = data_ohe['exited']\n",
    "features = data_ohe.drop(['exited'], axis=1)"
   ]
  },
  {
   "cell_type": "markdown",
   "metadata": {},
   "source": [
    "разделим  данные на обучающую и валидационную выборки в соотношении 60/40:"
   ]
  },
  {
   "cell_type": "code",
   "execution_count": 15,
   "metadata": {},
   "outputs": [],
   "source": [
    "features_train, features_valid, target_train, target_valid = train_test_split(features,\n",
    "                                                                              target, test_size=0.4,\n",
    "                                                                              random_state=12345)"
   ]
  },
  {
   "cell_type": "markdown",
   "metadata": {},
   "source": [
    "разделим валидационную выборку на валидационную и тестовую в соотношении 50/50:"
   ]
  },
  {
   "cell_type": "code",
   "execution_count": 16,
   "metadata": {},
   "outputs": [],
   "source": [
    "features_test, features_valid, target_test, target_valid = train_test_split(features_valid,\n",
    "                                                                            target_valid, test_size=0.5,\n",
    "                                                                            random_state=12345)"
   ]
  },
  {
   "cell_type": "markdown",
   "metadata": {},
   "source": [
    "проверим разбивку на train, valid, test в соотношении 3:1:1"
   ]
  },
  {
   "cell_type": "code",
   "execution_count": 17,
   "metadata": {
    "scrolled": true
   },
   "outputs": [
    {
     "data": {
      "text/plain": [
       "((6000, 11), (2000, 11), (2000, 11))"
      ]
     },
     "execution_count": 17,
     "metadata": {},
     "output_type": "execute_result"
    }
   ],
   "source": [
    "features_train.shape, features_valid.shape, features_test.shape"
   ]
  },
  {
   "cell_type": "markdown",
   "metadata": {},
   "source": [
    "Проверим на наличие дисбаланса в целевом показателе"
   ]
  },
  {
   "cell_type": "code",
   "execution_count": 18,
   "metadata": {
    "scrolled": true
   },
   "outputs": [
    {
     "data": {
      "text/plain": [
       "exited\n",
       "0   0.80\n",
       "1   0.20\n",
       "Name: proportion, dtype: float64"
      ]
     },
     "execution_count": 18,
     "metadata": {},
     "output_type": "execute_result"
    }
   ],
   "source": [
    "target.value_counts(normalize=True)\n"
   ]
  },
  {
   "cell_type": "markdown",
   "metadata": {},
   "source": [
    "Видно, что в целевом признаке наблюдается сильный дисбаланс классов, т.е. нужно увеличть долю объектов положительного класса, т.к. всего 20 % приходится на положительные ответы\n"
   ]
  },
  {
   "cell_type": "markdown",
   "metadata": {},
   "source": [
    "Обучим модели:"
   ]
  },
  {
   "cell_type": "markdown",
   "metadata": {},
   "source": [
    "Дерево решений"
   ]
  },
  {
   "cell_type": "code",
   "execution_count": 19,
   "metadata": {
    "scrolled": false
   },
   "outputs": [
    {
     "name": "stdout",
     "output_type": "stream",
     "text": [
      "max_depth = 1 : F1-мера: 0.0\n",
      "AUC-ROC: 0.6811643738072859\n",
      "max_depth = 2 : F1-мера: 0.4986301369863014\n",
      "AUC-ROC: 0.7280154586243442\n",
      "max_depth = 3 : F1-мера: 0.3795620437956204\n",
      "AUC-ROC: 0.7918669826750078\n",
      "max_depth = 4 : F1-мера: 0.48307692307692307\n",
      "AUC-ROC: 0.8119015816907046\n",
      "max_depth = 5 : F1-мера: 0.5015772870662459\n",
      "AUC-ROC: 0.8309475303228592\n",
      "max_depth = 6 : F1-мера: 0.5359877488514548\n",
      "AUC-ROC: 0.8418061945430099\n",
      "max_depth = 7 : F1-мера: 0.4976816074188563\n",
      "AUC-ROC: 0.8255373116205023\n",
      "max_depth = 8 : F1-мера: 0.5015290519877676\n",
      "AUC-ROC: 0.8065595716198125\n",
      "max_depth = 9 : F1-мера: 0.5398601398601399\n",
      "AUC-ROC: 0.786374313978572\n",
      "max_depth = 10 : F1-мера: 0.5114942528735632\n",
      "AUC-ROC: 0.7571937619833571\n",
      "max_depth = 11 : F1-мера: 0.49933244325767695\n",
      "AUC-ROC: 0.7198761451179858\n",
      "max_depth = 12 : F1-мера: 0.4973821989528795\n",
      "AUC-ROC: 0.703689712189557\n",
      "max_depth = 13 : F1-мера: 0.48382923673997413\n",
      "AUC-ROC: 0.6794823939280825\n",
      "max_depth = 14 : F1-мера: 0.48362720403022674\n",
      "AUC-ROC: 0.6833552950135744\n",
      "\n",
      "max_depth для дерево решений = 9\n",
      "F1 для дерево решений  0.5398601398601399\n",
      "AUC-ROC = 0.786374313978572\n"
     ]
    }
   ],
   "source": [
    "best_model_tree = None\n",
    "best_f1_tree = 0\n",
    "best_depth_tree =0\n",
    "best_auc_tree=0\n",
    "for depth in range(1, 15):\n",
    "    model_tree = DecisionTreeClassifier(random_state=12345,max_depth=depth)\n",
    "    model_tree.fit(features_train, target_train)\n",
    "    predictions_valid_tree = model_tree.predict(features_valid)\n",
    "    f1_tree = f1_score(target_valid, predictions_valid_tree)\n",
    "    auc_roc_tree = roc_auc_score(target_valid, model_tree.predict_proba(features_valid)[:, 1])\n",
    "    if f1_tree > best_f1_tree:\n",
    "        best_model_tree = model_tree\n",
    "        best_depth_tree = depth\n",
    "        best_f1_tree = f1_tree\n",
    "        best_auc_tree = auc_roc_tree\n",
    "    print(\"max_depth =\", depth, \": \", end='')\n",
    "    print(\"F1-мера:\", f1_tree)\n",
    "    print(\"AUC-ROC:\",auc_roc_tree)\n",
    "print()\n",
    "print('max_depth для дерево решений =', best_depth_tree) \n",
    "print('F1 для дерево решений ', best_f1_tree)\n",
    "print('AUC-ROC =', best_auc_tree)\n"
   ]
  },
  {
   "cell_type": "markdown",
   "metadata": {},
   "source": [
    "Случайный лес"
   ]
  },
  {
   "cell_type": "code",
   "execution_count": 20,
   "metadata": {},
   "outputs": [
    {
     "name": "stdout",
     "output_type": "stream",
     "text": [
      "Число деревьев = 91\n",
      "max_depth для случайного леса = 14\n",
      "F1 для случайного леса -  0.5303030303030303\n",
      "AUC-ROC = 0.8526093924035073\n"
     ]
    }
   ],
   "source": [
    "best_model_forest = None\n",
    "best_f1_forest=0\n",
    "best_depth_forest = 0\n",
    "best_est = 0\n",
    "best_auc_forest=0\n",
    "for depth in range(1, 15):\n",
    "    for est in range(1, 100,10):\n",
    "        model_forest = RandomForestClassifier(random_state=12345,n_estimators=est, max_depth=depth)\n",
    "        model_forest.fit(features_train, target_train)\n",
    "        predictions_valid_forest = model_forest.predict(features_valid)\n",
    "        f1_forest = f1_score(target_valid, predictions_valid_forest)\n",
    "        auc_roc_forest = roc_auc_score(target_valid, model_forest.predict_proba(features_valid)[:, 1])\n",
    "        if f1_forest > best_f1_forest:\n",
    "            best_model_forest = model_forest\n",
    "            best_est = est\n",
    "            best_depth_forest = depth\n",
    "            best_auc_forest = auc_roc_forest\n",
    "        \n",
    "\n",
    "print('Число деревьев =', best_est)\n",
    "print('max_depth для случайного леса =', best_depth_forest)\n",
    "print('F1 для случайного леса - ', f1_forest)\n",
    "print('AUC-ROC =', best_auc_forest)"
   ]
  },
  {
   "cell_type": "markdown",
   "metadata": {},
   "source": [
    "Логистическая регрессия"
   ]
  },
  {
   "cell_type": "markdown",
   "metadata": {},
   "source": [
    "Для логической регрессии масштабируем числовые признаки"
   ]
  },
  {
   "cell_type": "code",
   "execution_count": 21,
   "metadata": {
    "scrolled": true
   },
   "outputs": [],
   "source": [
    "numeric = ['credit_score', 'age', 'tenure', 'balance', 'num_of_products', 'estimated_salary']\n",
    "\n",
    "scaler = StandardScaler()\n",
    "scaler.fit(features_train[numeric])\n",
    "features_train_log=features_train.copy()\n",
    "features_valid_log=features_valid.copy()\n",
    "features_test_log=features_test.copy()\n",
    "\n",
    "features_train_log[numeric] = scaler.transform(features_train_log[numeric])\n",
    "features_valid_log[numeric] = scaler.transform(features_valid_log[numeric])\n",
    "features_test_log[numeric] = scaler.transform(features_test_log[numeric])"
   ]
  },
  {
   "cell_type": "code",
   "execution_count": 22,
   "metadata": {},
   "outputs": [
    {
     "data": {
      "text/html": [
       "<div>\n",
       "<style scoped>\n",
       "    .dataframe tbody tr th:only-of-type {\n",
       "        vertical-align: middle;\n",
       "    }\n",
       "\n",
       "    .dataframe tbody tr th {\n",
       "        vertical-align: top;\n",
       "    }\n",
       "\n",
       "    .dataframe thead th {\n",
       "        text-align: right;\n",
       "    }\n",
       "</style>\n",
       "<table border=\"1\" class=\"dataframe\">\n",
       "  <thead>\n",
       "    <tr style=\"text-align: right;\">\n",
       "      <th></th>\n",
       "      <th>credit_score</th>\n",
       "      <th>age</th>\n",
       "      <th>tenure</th>\n",
       "      <th>balance</th>\n",
       "      <th>num_of_products</th>\n",
       "      <th>has_cr_card</th>\n",
       "      <th>is_active_member</th>\n",
       "      <th>estimated_salary</th>\n",
       "      <th>geography_germany</th>\n",
       "      <th>geography_spain</th>\n",
       "      <th>gender_male</th>\n",
       "    </tr>\n",
       "  </thead>\n",
       "  <tbody>\n",
       "    <tr>\n",
       "      <th>7479</th>\n",
       "      <td>-0.89</td>\n",
       "      <td>-0.37</td>\n",
       "      <td>1.10</td>\n",
       "      <td>1.23</td>\n",
       "      <td>-0.89</td>\n",
       "      <td>1</td>\n",
       "      <td>0</td>\n",
       "      <td>-0.19</td>\n",
       "      <td>False</td>\n",
       "      <td>True</td>\n",
       "      <td>True</td>\n",
       "    </tr>\n",
       "    <tr>\n",
       "      <th>3411</th>\n",
       "      <td>0.61</td>\n",
       "      <td>-0.18</td>\n",
       "      <td>1.10</td>\n",
       "      <td>0.60</td>\n",
       "      <td>-0.89</td>\n",
       "      <td>0</td>\n",
       "      <td>0</td>\n",
       "      <td>-0.33</td>\n",
       "      <td>False</td>\n",
       "      <td>False</td>\n",
       "      <td>False</td>\n",
       "    </tr>\n",
       "    <tr>\n",
       "      <th>6027</th>\n",
       "      <td>2.05</td>\n",
       "      <td>0.48</td>\n",
       "      <td>-0.50</td>\n",
       "      <td>1.03</td>\n",
       "      <td>0.83</td>\n",
       "      <td>0</td>\n",
       "      <td>1</td>\n",
       "      <td>1.50</td>\n",
       "      <td>True</td>\n",
       "      <td>False</td>\n",
       "      <td>True</td>\n",
       "    </tr>\n",
       "    <tr>\n",
       "      <th>1247</th>\n",
       "      <td>-1.46</td>\n",
       "      <td>-1.42</td>\n",
       "      <td>0.46</td>\n",
       "      <td>-1.23</td>\n",
       "      <td>0.83</td>\n",
       "      <td>1</td>\n",
       "      <td>0</td>\n",
       "      <td>-1.07</td>\n",
       "      <td>False</td>\n",
       "      <td>False</td>\n",
       "      <td>True</td>\n",
       "    </tr>\n",
       "    <tr>\n",
       "      <th>3716</th>\n",
       "      <td>0.13</td>\n",
       "      <td>-1.13</td>\n",
       "      <td>-0.83</td>\n",
       "      <td>1.14</td>\n",
       "      <td>-0.89</td>\n",
       "      <td>0</td>\n",
       "      <td>0</td>\n",
       "      <td>1.52</td>\n",
       "      <td>True</td>\n",
       "      <td>False</td>\n",
       "      <td>False</td>\n",
       "    </tr>\n",
       "    <tr>\n",
       "      <th>...</th>\n",
       "      <td>...</td>\n",
       "      <td>...</td>\n",
       "      <td>...</td>\n",
       "      <td>...</td>\n",
       "      <td>...</td>\n",
       "      <td>...</td>\n",
       "      <td>...</td>\n",
       "      <td>...</td>\n",
       "      <td>...</td>\n",
       "      <td>...</td>\n",
       "      <td>...</td>\n",
       "    </tr>\n",
       "    <tr>\n",
       "      <th>4478</th>\n",
       "      <td>-1.07</td>\n",
       "      <td>-0.75</td>\n",
       "      <td>-0.18</td>\n",
       "      <td>-1.23</td>\n",
       "      <td>0.83</td>\n",
       "      <td>0</td>\n",
       "      <td>1</td>\n",
       "      <td>-1.28</td>\n",
       "      <td>False</td>\n",
       "      <td>False</td>\n",
       "      <td>True</td>\n",
       "    </tr>\n",
       "    <tr>\n",
       "      <th>4094</th>\n",
       "      <td>-1.45</td>\n",
       "      <td>-0.94</td>\n",
       "      <td>1.75</td>\n",
       "      <td>-1.23</td>\n",
       "      <td>0.83</td>\n",
       "      <td>0</td>\n",
       "      <td>1</td>\n",
       "      <td>-1.28</td>\n",
       "      <td>False</td>\n",
       "      <td>False</td>\n",
       "      <td>True</td>\n",
       "    </tr>\n",
       "    <tr>\n",
       "      <th>3492</th>\n",
       "      <td>0.03</td>\n",
       "      <td>0.58</td>\n",
       "      <td>-1.47</td>\n",
       "      <td>-0.31</td>\n",
       "      <td>-0.89</td>\n",
       "      <td>0</td>\n",
       "      <td>1</td>\n",
       "      <td>-0.90</td>\n",
       "      <td>False</td>\n",
       "      <td>False</td>\n",
       "      <td>False</td>\n",
       "    </tr>\n",
       "    <tr>\n",
       "      <th>2177</th>\n",
       "      <td>0.15</td>\n",
       "      <td>-1.42</td>\n",
       "      <td>-0.18</td>\n",
       "      <td>-1.23</td>\n",
       "      <td>0.83</td>\n",
       "      <td>0</td>\n",
       "      <td>1</td>\n",
       "      <td>-1.13</td>\n",
       "      <td>False</td>\n",
       "      <td>False</td>\n",
       "      <td>False</td>\n",
       "    </tr>\n",
       "    <tr>\n",
       "      <th>4578</th>\n",
       "      <td>0.40</td>\n",
       "      <td>-0.09</td>\n",
       "      <td>-1.15</td>\n",
       "      <td>-1.23</td>\n",
       "      <td>0.83</td>\n",
       "      <td>0</td>\n",
       "      <td>0</td>\n",
       "      <td>-0.95</td>\n",
       "      <td>False</td>\n",
       "      <td>False</td>\n",
       "      <td>True</td>\n",
       "    </tr>\n",
       "  </tbody>\n",
       "</table>\n",
       "<p>6000 rows × 11 columns</p>\n",
       "</div>"
      ],
      "text/plain": [
       "      credit_score   age  tenure  balance  num_of_products  has_cr_card  \\\n",
       "7479         -0.89 -0.37    1.10     1.23            -0.89            1   \n",
       "3411          0.61 -0.18    1.10     0.60            -0.89            0   \n",
       "6027          2.05  0.48   -0.50     1.03             0.83            0   \n",
       "1247         -1.46 -1.42    0.46    -1.23             0.83            1   \n",
       "3716          0.13 -1.13   -0.83     1.14            -0.89            0   \n",
       "...            ...   ...     ...      ...              ...          ...   \n",
       "4478         -1.07 -0.75   -0.18    -1.23             0.83            0   \n",
       "4094         -1.45 -0.94    1.75    -1.23             0.83            0   \n",
       "3492          0.03  0.58   -1.47    -0.31            -0.89            0   \n",
       "2177          0.15 -1.42   -0.18    -1.23             0.83            0   \n",
       "4578          0.40 -0.09   -1.15    -1.23             0.83            0   \n",
       "\n",
       "      is_active_member  estimated_salary  geography_germany  geography_spain  \\\n",
       "7479                 0             -0.19              False             True   \n",
       "3411                 0             -0.33              False            False   \n",
       "6027                 1              1.50               True            False   \n",
       "1247                 0             -1.07              False            False   \n",
       "3716                 0              1.52               True            False   \n",
       "...                ...               ...                ...              ...   \n",
       "4478                 1             -1.28              False            False   \n",
       "4094                 1             -1.28              False            False   \n",
       "3492                 1             -0.90              False            False   \n",
       "2177                 1             -1.13              False            False   \n",
       "4578                 0             -0.95              False            False   \n",
       "\n",
       "      gender_male  \n",
       "7479         True  \n",
       "3411        False  \n",
       "6027         True  \n",
       "1247         True  \n",
       "3716        False  \n",
       "...           ...  \n",
       "4478         True  \n",
       "4094         True  \n",
       "3492        False  \n",
       "2177        False  \n",
       "4578         True  \n",
       "\n",
       "[6000 rows x 11 columns]"
      ]
     },
     "metadata": {},
     "output_type": "display_data"
    },
    {
     "data": {
      "text/html": [
       "<div>\n",
       "<style scoped>\n",
       "    .dataframe tbody tr th:only-of-type {\n",
       "        vertical-align: middle;\n",
       "    }\n",
       "\n",
       "    .dataframe tbody tr th {\n",
       "        vertical-align: top;\n",
       "    }\n",
       "\n",
       "    .dataframe thead th {\n",
       "        text-align: right;\n",
       "    }\n",
       "</style>\n",
       "<table border=\"1\" class=\"dataframe\">\n",
       "  <thead>\n",
       "    <tr style=\"text-align: right;\">\n",
       "      <th></th>\n",
       "      <th>credit_score</th>\n",
       "      <th>age</th>\n",
       "      <th>tenure</th>\n",
       "      <th>balance</th>\n",
       "      <th>num_of_products</th>\n",
       "      <th>has_cr_card</th>\n",
       "      <th>is_active_member</th>\n",
       "      <th>estimated_salary</th>\n",
       "      <th>geography_germany</th>\n",
       "      <th>geography_spain</th>\n",
       "      <th>gender_male</th>\n",
       "    </tr>\n",
       "  </thead>\n",
       "  <tbody>\n",
       "    <tr>\n",
       "      <th>7041</th>\n",
       "      <td>-2.23</td>\n",
       "      <td>-0.09</td>\n",
       "      <td>-0.83</td>\n",
       "      <td>-1.23</td>\n",
       "      <td>0.83</td>\n",
       "      <td>1</td>\n",
       "      <td>0</td>\n",
       "      <td>0.65</td>\n",
       "      <td>False</td>\n",
       "      <td>False</td>\n",
       "      <td>True</td>\n",
       "    </tr>\n",
       "    <tr>\n",
       "      <th>5709</th>\n",
       "      <td>-0.09</td>\n",
       "      <td>0.01</td>\n",
       "      <td>1.43</td>\n",
       "      <td>-1.23</td>\n",
       "      <td>-0.89</td>\n",
       "      <td>1</td>\n",
       "      <td>0</td>\n",
       "      <td>-1.66</td>\n",
       "      <td>False</td>\n",
       "      <td>False</td>\n",
       "      <td>False</td>\n",
       "    </tr>\n",
       "    <tr>\n",
       "      <th>7117</th>\n",
       "      <td>-0.92</td>\n",
       "      <td>-0.75</td>\n",
       "      <td>0.14</td>\n",
       "      <td>0.72</td>\n",
       "      <td>-0.89</td>\n",
       "      <td>1</td>\n",
       "      <td>1</td>\n",
       "      <td>-1.37</td>\n",
       "      <td>False</td>\n",
       "      <td>True</td>\n",
       "      <td>True</td>\n",
       "    </tr>\n",
       "    <tr>\n",
       "      <th>7775</th>\n",
       "      <td>-0.25</td>\n",
       "      <td>0.10</td>\n",
       "      <td>1.75</td>\n",
       "      <td>-1.23</td>\n",
       "      <td>0.83</td>\n",
       "      <td>1</td>\n",
       "      <td>0</td>\n",
       "      <td>0.08</td>\n",
       "      <td>False</td>\n",
       "      <td>True</td>\n",
       "      <td>True</td>\n",
       "    </tr>\n",
       "    <tr>\n",
       "      <th>8735</th>\n",
       "      <td>0.79</td>\n",
       "      <td>-0.85</td>\n",
       "      <td>1.75</td>\n",
       "      <td>0.62</td>\n",
       "      <td>-0.89</td>\n",
       "      <td>0</td>\n",
       "      <td>1</td>\n",
       "      <td>-1.07</td>\n",
       "      <td>False</td>\n",
       "      <td>False</td>\n",
       "      <td>True</td>\n",
       "    </tr>\n",
       "    <tr>\n",
       "      <th>...</th>\n",
       "      <td>...</td>\n",
       "      <td>...</td>\n",
       "      <td>...</td>\n",
       "      <td>...</td>\n",
       "      <td>...</td>\n",
       "      <td>...</td>\n",
       "      <td>...</td>\n",
       "      <td>...</td>\n",
       "      <td>...</td>\n",
       "      <td>...</td>\n",
       "      <td>...</td>\n",
       "    </tr>\n",
       "    <tr>\n",
       "      <th>9335</th>\n",
       "      <td>0.88</td>\n",
       "      <td>1.05</td>\n",
       "      <td>-0.18</td>\n",
       "      <td>0.82</td>\n",
       "      <td>0.83</td>\n",
       "      <td>1</td>\n",
       "      <td>0</td>\n",
       "      <td>-1.65</td>\n",
       "      <td>True</td>\n",
       "      <td>False</td>\n",
       "      <td>True</td>\n",
       "    </tr>\n",
       "    <tr>\n",
       "      <th>7999</th>\n",
       "      <td>1.80</td>\n",
       "      <td>-1.23</td>\n",
       "      <td>0.14</td>\n",
       "      <td>1.06</td>\n",
       "      <td>-0.89</td>\n",
       "      <td>0</td>\n",
       "      <td>0</td>\n",
       "      <td>-0.68</td>\n",
       "      <td>False</td>\n",
       "      <td>False</td>\n",
       "      <td>True</td>\n",
       "    </tr>\n",
       "    <tr>\n",
       "      <th>6139</th>\n",
       "      <td>-0.00</td>\n",
       "      <td>-0.18</td>\n",
       "      <td>-0.18</td>\n",
       "      <td>-1.23</td>\n",
       "      <td>0.83</td>\n",
       "      <td>1</td>\n",
       "      <td>0</td>\n",
       "      <td>0.76</td>\n",
       "      <td>False</td>\n",
       "      <td>False</td>\n",
       "      <td>False</td>\n",
       "    </tr>\n",
       "    <tr>\n",
       "      <th>9473</th>\n",
       "      <td>-0.46</td>\n",
       "      <td>0.58</td>\n",
       "      <td>-0.18</td>\n",
       "      <td>-1.23</td>\n",
       "      <td>0.83</td>\n",
       "      <td>0</td>\n",
       "      <td>0</td>\n",
       "      <td>-1.09</td>\n",
       "      <td>False</td>\n",
       "      <td>True</td>\n",
       "      <td>True</td>\n",
       "    </tr>\n",
       "    <tr>\n",
       "      <th>3366</th>\n",
       "      <td>-0.13</td>\n",
       "      <td>3.33</td>\n",
       "      <td>-0.83</td>\n",
       "      <td>0.65</td>\n",
       "      <td>-0.89</td>\n",
       "      <td>1</td>\n",
       "      <td>1</td>\n",
       "      <td>-1.13</td>\n",
       "      <td>True</td>\n",
       "      <td>False</td>\n",
       "      <td>False</td>\n",
       "    </tr>\n",
       "  </tbody>\n",
       "</table>\n",
       "<p>2000 rows × 11 columns</p>\n",
       "</div>"
      ],
      "text/plain": [
       "      credit_score   age  tenure  balance  num_of_products  has_cr_card  \\\n",
       "7041         -2.23 -0.09   -0.83    -1.23             0.83            1   \n",
       "5709         -0.09  0.01    1.43    -1.23            -0.89            1   \n",
       "7117         -0.92 -0.75    0.14     0.72            -0.89            1   \n",
       "7775         -0.25  0.10    1.75    -1.23             0.83            1   \n",
       "8735          0.79 -0.85    1.75     0.62            -0.89            0   \n",
       "...            ...   ...     ...      ...              ...          ...   \n",
       "9335          0.88  1.05   -0.18     0.82             0.83            1   \n",
       "7999          1.80 -1.23    0.14     1.06            -0.89            0   \n",
       "6139         -0.00 -0.18   -0.18    -1.23             0.83            1   \n",
       "9473         -0.46  0.58   -0.18    -1.23             0.83            0   \n",
       "3366         -0.13  3.33   -0.83     0.65            -0.89            1   \n",
       "\n",
       "      is_active_member  estimated_salary  geography_germany  geography_spain  \\\n",
       "7041                 0              0.65              False            False   \n",
       "5709                 0             -1.66              False            False   \n",
       "7117                 1             -1.37              False             True   \n",
       "7775                 0              0.08              False             True   \n",
       "8735                 1             -1.07              False            False   \n",
       "...                ...               ...                ...              ...   \n",
       "9335                 0             -1.65               True            False   \n",
       "7999                 0             -0.68              False            False   \n",
       "6139                 0              0.76              False            False   \n",
       "9473                 0             -1.09              False             True   \n",
       "3366                 1             -1.13               True            False   \n",
       "\n",
       "      gender_male  \n",
       "7041         True  \n",
       "5709        False  \n",
       "7117         True  \n",
       "7775         True  \n",
       "8735         True  \n",
       "...           ...  \n",
       "9335         True  \n",
       "7999         True  \n",
       "6139        False  \n",
       "9473         True  \n",
       "3366        False  \n",
       "\n",
       "[2000 rows x 11 columns]"
      ]
     },
     "metadata": {},
     "output_type": "display_data"
    }
   ],
   "source": [
    "display(features_train_log)\n",
    "display(features_valid_log)"
   ]
  },
  {
   "cell_type": "code",
   "execution_count": 23,
   "metadata": {},
   "outputs": [
    {
     "name": "stdout",
     "output_type": "stream",
     "text": [
      "F1 для логистической регрессии = 0.2743055555555555\n",
      "AUC-ROC для логистической регрессии = 0.499535281851557\n"
     ]
    }
   ],
   "source": [
    "model_log = LogisticRegression(random_state=12345, solver='lbfgs', max_iter=1000) \n",
    "model_log.fit(features_train_log, target_train) \n",
    "predictions_valid_log = model_log.predict(features_valid_log)\n",
    "f1_log=f1_score(target_valid, predictions_valid_log)\n",
    "auc_roc_log=roc_auc_score(target_valid, model_log.predict_proba(features_valid)[:, 1])\n",
    "\n",
    "print('F1 для логистической регрессии =', f1_log)\n",
    "print('AUC-ROC для логистической регрессии =', auc_roc_log)"
   ]
  },
  {
   "cell_type": "markdown",
   "metadata": {},
   "source": [
    "Таким образом,\n",
    "\n",
    "Обучив три модели, выявили наилучшие показатели:\n",
    "\n",
    "F1-метрики :\n",
    " -Дерево решений - 0.53781512605042\n",
    " -Случайный лес - 0.5303030303030303\n",
    " -Логистическая регрессия - 0.2743055555555555\n",
    " \n",
    "AUC-ROC:\n",
    " -Дерево решений - 0.7843565377598487\n",
    " -Случайный лес - 0.8526093924035073\n",
    " -Логистическая регрессия - 0.7387354569453627\n",
    "\n",
    "Видно, что наилучший показатель метрики F1 у дерево решений,далее идет случайный лес, т.е. данные практически одинаковые и совсем плохой показатель у Логистической регрессиии\n",
    "В тоже время, показатель AUC-ROC выше всего у модели Случайного леса, на втором месте дерево решений и на последнем Логистическая регрессия\n",
    "\n",
    "Далее, учитывая,небольшую разницу в F1 и то, что у случайного леса AUC-ROC выше, будем работать с дисбалонсом двух моделей"
   ]
  },
  {
   "cell_type": "markdown",
   "metadata": {},
   "source": [
    "## Борьба с дисбалансом"
   ]
  },
  {
   "cell_type": "markdown",
   "metadata": {},
   "source": [
    "Существует 3 метода для работы с дисбалансом: аргумент class_weight, upsampling и downsampling. \n",
    "\n",
    "Проверим все триа на моделях Дерево решений и Случайный лес"
   ]
  },
  {
   "cell_type": "markdown",
   "metadata": {},
   "source": [
    "Модель аргументом class_weight"
   ]
  },
  {
   "cell_type": "markdown",
   "metadata": {},
   "source": [
    "Дерево решений"
   ]
  },
  {
   "cell_type": "code",
   "execution_count": 24,
   "metadata": {},
   "outputs": [
    {
     "name": "stdout",
     "output_type": "stream",
     "text": [
      "max_depth = 1 : F1-мера: 0.48514851485148514\n",
      "AUC-ROC: 0.6811643738072859\n",
      "max_depth = 2 : F1-мера: 0.5129682997118156\n",
      "AUC-ROC: 0.7280154586243442\n",
      "max_depth = 3 : F1-мера: 0.5129682997118156\n",
      "AUC-ROC: 0.7914352445241962\n",
      "max_depth = 4 : F1-мера: 0.5385239253852393\n",
      "AUC-ROC: 0.8187396843814227\n",
      "max_depth = 5 : F1-мера: 0.5809128630705395\n",
      "AUC-ROC: 0.8355347481752318\n",
      "max_depth = 6 : F1-мера: 0.5656934306569343\n",
      "AUC-ROC: 0.8217948314347349\n",
      "max_depth = 7 : F1-мера: 0.563407550822846\n",
      "AUC-ROC: 0.7990318871604372\n",
      "max_depth = 8 : F1-мера: 0.5473289597000938\n",
      "AUC-ROC: 0.7767666410322138\n",
      "max_depth = 9 : F1-мера: 0.5444126074498568\n",
      "AUC-ROC: 0.7661493304310936\n",
      "max_depth = 10 : F1-мера: 0.5263157894736843\n",
      "AUC-ROC: 0.7498474675109547\n",
      "max_depth = 11 : F1-мера: 0.5325325325325325\n",
      "AUC-ROC: 0.7411947154051068\n",
      "max_depth = 12 : F1-мера: 0.5163934426229507\n",
      "AUC-ROC: 0.7173284403009574\n",
      "max_depth = 13 : F1-мера: 0.5129310344827586\n",
      "AUC-ROC: 0.707661553267943\n",
      "max_depth = 14 : F1-мера: 0.5218365061590146\n",
      "AUC-ROC: 0.7075004010067895\n",
      "\n",
      "max_depth для дерево решений = 5\n",
      "F1 для дерево решений  0.5809128630705395\n",
      "AUC-ROC = 0.8355347481752318\n"
     ]
    }
   ],
   "source": [
    "best_model_tree = None\n",
    "best_f1_tree = 0\n",
    "best_depth_tree =0\n",
    "best_auc_tree=0\n",
    "for depth in range(1, 15):\n",
    "    model_tree = DecisionTreeClassifier(random_state=12345,max_depth=depth,class_weight='balanced')\n",
    "    model_tree.fit(features_train, target_train)\n",
    "    predictions_valid_tree = model_tree.predict(features_valid)\n",
    "    f1_tree = f1_score(target_valid, predictions_valid_tree)\n",
    "    auc_roc_tree = roc_auc_score(target_valid, model_tree.predict_proba(features_valid)[:, 1])\n",
    "    if f1_tree > best_f1_tree:\n",
    "        best_model_tree = model_tree\n",
    "        best_depth_tree = depth\n",
    "        best_f1_tree = f1_tree\n",
    "        best_auc_tree = auc_roc_tree\n",
    "    print(\"max_depth =\", depth, \": \", end='')\n",
    "    print(\"F1-мера:\", f1_tree)\n",
    "    print(\"AUC-ROC:\",auc_roc_tree)\n",
    "print()\n",
    "print('max_depth для дерево решений =', best_depth_tree) \n",
    "print('F1 для дерево решений ', best_f1_tree)\n",
    "print('AUC-ROC =', best_auc_tree)"
   ]
  },
  {
   "cell_type": "markdown",
   "metadata": {},
   "source": [
    "Случайный лес"
   ]
  },
  {
   "cell_type": "code",
   "execution_count": 25,
   "metadata": {},
   "outputs": [
    {
     "name": "stdout",
     "output_type": "stream",
     "text": [
      "Число деревьев = 91\n",
      "max_depth для случайного леса = 19\n",
      "F1 для случайного леса -  0.5015384615384616\n",
      "AUC-ROC = 0.852615388766713\n"
     ]
    }
   ],
   "source": [
    "best_model_forest = None\n",
    "best_f1_forest=0\n",
    "best_depth_forest = 0\n",
    "best_est = 0\n",
    "best_auc_forest=0\n",
    "for depth in range(1, 20):\n",
    "    for est in range(1, 100,10):\n",
    "        model_forest = RandomForestClassifier(random_state=12345,n_estimators=est, max_depth=depth,class_weight='balanced')\n",
    "        model_forest.fit(features_train, target_train)\n",
    "        predictions_valid_forest = model_forest.predict(features_valid)\n",
    "        f1_forest = f1_score(target_valid, predictions_valid_forest)\n",
    "        auc_roc_forest = roc_auc_score(target_valid, model_forest.predict_proba(features_valid)[:, 1])\n",
    "        if f1_forest > best_f1_forest:\n",
    "            best_model_forest = model_forest\n",
    "            best_est = est\n",
    "            best_depth_forest = depth\n",
    "            best_auc_forest = auc_roc_forest\n",
    "        \n",
    "\n",
    "print('Число деревьев =', best_est)\n",
    "print('max_depth для случайного леса =', best_depth_forest)\n",
    "print('F1 для случайного леса - ', f1_forest)\n",
    "print('AUC-ROC =', best_auc_forest)"
   ]
  },
  {
   "cell_type": "markdown",
   "metadata": {},
   "source": [
    "Модель уменьшение выборки (downsampling)"
   ]
  },
  {
   "cell_type": "markdown",
   "metadata": {},
   "source": [
    "Уменьшим выборку в 4 раза, что бы сравнять классы"
   ]
  },
  {
   "cell_type": "code",
   "execution_count": 26,
   "metadata": {},
   "outputs": [
    {
     "name": "stdout",
     "output_type": "stream",
     "text": [
      "(2397, 11)\n",
      "(2397,)\n"
     ]
    }
   ],
   "source": [
    "def downsample(features, target, fraction):\n",
    "    features_zeros = features[target == 0]\n",
    "    features_ones = features[target == 1]\n",
    "    target_zeros = target[target == 0]\n",
    "    target_ones = target[target == 1]\n",
    "\n",
    "   \n",
    "    features_downsampled = pd.concat([features_zeros.sample(frac=fraction, random_state=12345)] +\n",
    "                                     [features_ones])\n",
    "    target_downsampled = pd.concat([target_zeros.sample(frac=fraction, random_state=12345)] +\n",
    "                                   [target_ones])\n",
    "    \n",
    "    features_downsampled = shuffle(features_downsampled, random_state=12345)\n",
    "    target_downsampled = shuffle(target_downsampled, random_state=12345)\n",
    "\n",
    "    return features_downsampled, target_downsampled\n",
    "\n",
    "features_downsampled, target_downsampled = downsample(features_train, target_train, 0.25)\n",
    "\n",
    "print(features_downsampled.shape)\n",
    "print(target_downsampled.shape)"
   ]
  },
  {
   "cell_type": "markdown",
   "metadata": {},
   "source": [
    "Дерево решений"
   ]
  },
  {
   "cell_type": "code",
   "execution_count": 27,
   "metadata": {},
   "outputs": [
    {
     "name": "stdout",
     "output_type": "stream",
     "text": [
      "F1 для дерево решений при методе downsampling = 0.48954703832752616\n",
      "AUC-ROC = 0.6913776794374212\n"
     ]
    }
   ],
   "source": [
    "model = DecisionTreeClassifier(random_state=12345)\n",
    "model.fit(features_downsampled, target_downsampled) \n",
    "predicted_valid = model.predict(features_valid)\n",
    "\n",
    "print('F1 для дерево решений при методе downsampling =', f1_score(target_valid, predicted_valid))\n",
    "print('AUC-ROC =', roc_auc_score(target_valid, model.predict_proba(features_valid)[:,1]))"
   ]
  },
  {
   "cell_type": "markdown",
   "metadata": {},
   "source": [
    "Случайный лес\n"
   ]
  },
  {
   "cell_type": "code",
   "execution_count": 28,
   "metadata": {},
   "outputs": [
    {
     "name": "stdout",
     "output_type": "stream",
     "text": [
      "F1 для случайного леса при методе downsampling = 0.5841035120147874\n",
      "AUC-ROC = 0.8447256738787925\n"
     ]
    }
   ],
   "source": [
    "model = RandomForestClassifier(random_state=12345)\n",
    "model.fit(features_downsampled, target_downsampled) \n",
    "predicted_valid = model.predict(features_valid)\n",
    "\n",
    "print('F1 для случайного леса при методе downsampling =', f1_score(target_valid, predicted_valid))\n",
    "print('AUC-ROC =', roc_auc_score(target_valid, model.predict_proba(features_valid)[:,1]))"
   ]
  },
  {
   "cell_type": "markdown",
   "metadata": {},
   "source": [
    "Модель уменьшение выборки (upsampling)"
   ]
  },
  {
   "cell_type": "markdown",
   "metadata": {},
   "source": [
    "Увеличим выборку в 4 раза, что бы сравнять классы"
   ]
  },
  {
   "cell_type": "code",
   "execution_count": 29,
   "metadata": {},
   "outputs": [
    {
     "name": "stdout",
     "output_type": "stream",
     "text": [
      "(9588, 11)\n",
      "(9588,)\n"
     ]
    }
   ],
   "source": [
    "def upsample(features, target, repeat):\n",
    "    features_zeros = features[target == 0]\n",
    "    features_ones = features[target == 1]\n",
    "    target_zeros = target[target == 0]\n",
    "    target_ones = target[target == 1]\n",
    "\n",
    "   \n",
    "    features_upsampled = pd.concat([features_zeros] + [features_ones] * repeat)\n",
    "    target_upsampled = pd.concat([target_zeros] + [target_ones] * repeat)\n",
    "    \n",
    "    features_upsampled = shuffle(features_upsampled, random_state=12345)\n",
    "    target_upsampled = shuffle(target_upsampled, random_state=12345)\n",
    "    \n",
    "    return features_upsampled, target_upsampled\n",
    "    \n",
    "\n",
    "\n",
    "features_upsampled, target_upsampled = upsample(features_train, target_train, 4)\n",
    "\n",
    "print(features_upsampled.shape)\n",
    "print(target_upsampled.shape)"
   ]
  },
  {
   "cell_type": "markdown",
   "metadata": {},
   "source": [
    "Дерево решений"
   ]
  },
  {
   "cell_type": "code",
   "execution_count": 30,
   "metadata": {},
   "outputs": [
    {
     "name": "stdout",
     "output_type": "stream",
     "text": [
      "F1 для дерево решений при методе upsampling = 0.49388753056234713\n",
      "AUC-ROC = 0.6775785486102679\n"
     ]
    }
   ],
   "source": [
    "model = DecisionTreeClassifier(random_state=12345)\n",
    "model.fit(features_upsampled, target_upsampled) \n",
    "predicted_valid = model.predict(features_valid)\n",
    "\n",
    "print('F1 для дерево решений при методе upsampling =', f1_score(target_valid, predicted_valid))\n",
    "print('AUC-ROC =', roc_auc_score(target_valid, model.predict_proba(features_valid)[:,1]))"
   ]
  },
  {
   "cell_type": "markdown",
   "metadata": {},
   "source": [
    "Случайный лес"
   ]
  },
  {
   "cell_type": "code",
   "execution_count": 31,
   "metadata": {},
   "outputs": [
    {
     "name": "stdout",
     "output_type": "stream",
     "text": [
      "F1 для случайного леса при методе upsampling = 0.5809018567639258\n",
      "AUC-ROC = 0.8493413744563921\n"
     ]
    }
   ],
   "source": [
    "model = RandomForestClassifier(random_state=12345)\n",
    "model.fit(features_upsampled, target_upsampled) \n",
    "predicted_valid = model.predict(features_valid)\n",
    "\n",
    "print('F1 для случайного леса при методе upsampling =', f1_score(target_valid, predicted_valid))\n",
    "print('AUC-ROC =', roc_auc_score(target_valid, model.predict_proba(features_valid)[:,1]))"
   ]
  },
  {
   "cell_type": "markdown",
   "metadata": {},
   "source": [
    "Для наглядности  и простоты сравнения моделей, собирем даные по обучению моделей в таблицу"
   ]
  },
  {
   "cell_type": "code",
   "execution_count": 32,
   "metadata": {
    "scrolled": true
   },
   "outputs": [
    {
     "data": {
      "text/html": [
       "<div>\n",
       "<style scoped>\n",
       "    .dataframe tbody tr th:only-of-type {\n",
       "        vertical-align: middle;\n",
       "    }\n",
       "\n",
       "    .dataframe tbody tr th {\n",
       "        vertical-align: top;\n",
       "    }\n",
       "\n",
       "    .dataframe thead th {\n",
       "        text-align: right;\n",
       "    }\n",
       "</style>\n",
       "<table border=\"1\" class=\"dataframe\">\n",
       "  <thead>\n",
       "    <tr style=\"text-align: right;\">\n",
       "      <th></th>\n",
       "      <th>model</th>\n",
       "      <th>programm</th>\n",
       "      <th>F-1 before</th>\n",
       "      <th>AUC-ROC before</th>\n",
       "    </tr>\n",
       "  </thead>\n",
       "  <tbody>\n",
       "    <tr>\n",
       "      <th>0</th>\n",
       "      <td>дерево решений</td>\n",
       "      <td>DecisionTreeClassifier</td>\n",
       "      <td>0.5398</td>\n",
       "      <td>0.7863</td>\n",
       "    </tr>\n",
       "    <tr>\n",
       "      <th>1</th>\n",
       "      <td>случвйный лес</td>\n",
       "      <td>RandomForestClassifier</td>\n",
       "      <td>0.5303</td>\n",
       "      <td>0.8526</td>\n",
       "    </tr>\n",
       "    <tr>\n",
       "      <th>2</th>\n",
       "      <td>логическая регрессия</td>\n",
       "      <td>LogisticRegression</td>\n",
       "      <td>0.2743</td>\n",
       "      <td>0.7387</td>\n",
       "    </tr>\n",
       "  </tbody>\n",
       "</table>\n",
       "</div>"
      ],
      "text/plain": [
       "                  model                programm F-1 before AUC-ROC before\n",
       "0        дерево решений  DecisionTreeClassifier     0.5398         0.7863\n",
       "1         случвйный лес  RandomForestClassifier     0.5303         0.8526\n",
       "2  логическая регрессия      LogisticRegression     0.2743         0.7387"
      ]
     },
     "metadata": {},
     "output_type": "display_data"
    },
    {
     "data": {
      "text/html": [
       "<div>\n",
       "<style scoped>\n",
       "    .dataframe tbody tr th:only-of-type {\n",
       "        vertical-align: middle;\n",
       "    }\n",
       "\n",
       "    .dataframe tbody tr th {\n",
       "        vertical-align: top;\n",
       "    }\n",
       "\n",
       "    .dataframe thead th {\n",
       "        text-align: right;\n",
       "    }\n",
       "</style>\n",
       "<table border=\"1\" class=\"dataframe\">\n",
       "  <thead>\n",
       "    <tr style=\"text-align: right;\">\n",
       "      <th></th>\n",
       "      <th>model</th>\n",
       "      <th>model_v</th>\n",
       "      <th>F-1 after</th>\n",
       "      <th>AUC-ROC after</th>\n",
       "    </tr>\n",
       "  </thead>\n",
       "  <tbody>\n",
       "    <tr>\n",
       "      <th>0</th>\n",
       "      <td>class_weight</td>\n",
       "      <td>[дерево решений,случайный лес]</td>\n",
       "      <td>[0.5809, 0.5722]</td>\n",
       "      <td>[0.8355,0.8529]</td>\n",
       "    </tr>\n",
       "    <tr>\n",
       "      <th>1</th>\n",
       "      <td>downsampling</td>\n",
       "      <td>[дерево решений,случайный лес]</td>\n",
       "      <td>[0.4912,0.5848]</td>\n",
       "      <td>[0.6928,0.8450]</td>\n",
       "    </tr>\n",
       "    <tr>\n",
       "      <th>2</th>\n",
       "      <td>upsampling</td>\n",
       "      <td>[дерево решений,случайный лес]</td>\n",
       "      <td>[0.4957,0.5816]</td>\n",
       "      <td>[0.6787,0.8495]</td>\n",
       "    </tr>\n",
       "  </tbody>\n",
       "</table>\n",
       "</div>"
      ],
      "text/plain": [
       "          model                         model_v         F-1 after  \\\n",
       "0  class_weight  [дерево решений,случайный лес]  [0.5809, 0.5722]   \n",
       "1  downsampling  [дерево решений,случайный лес]   [0.4912,0.5848]   \n",
       "2    upsampling  [дерево решений,случайный лес]   [0.4957,0.5816]   \n",
       "\n",
       "     AUC-ROC after  \n",
       "0  [0.8355,0.8529]  \n",
       "1  [0.6928,0.8450]  \n",
       "2  [0.6787,0.8495]  "
      ]
     },
     "metadata": {},
     "output_type": "display_data"
    }
   ],
   "source": [
    "all_data = {'model': ['дерево решений','случвйный лес','логическая регрессия'],\n",
    "        'programm':['DecisionTreeClassifier','RandomForestClassifier','LogisticRegression'],\n",
    "        'F-1 before':['0.5398','0.5303','0.2743'],\n",
    "        'AUC-ROC before':['0.7863','0.8526','0.7387'],\n",
    "        \n",
    "           }\n",
    "all_results = pd.DataFrame(all_data)\n",
    "  \n",
    "display(all_results) \n",
    "\n",
    "all_data_balance= {'model': ['class_weight','downsampling','upsampling'],\n",
    "                   'model_v':['[дерево решений,случайный лес]','[дерево решений,случайный лес]','[дерево решений,случайный лес]'],\n",
    "                    'F-1 after':['[0.5809, 0.5722]','[0.4912,0.5848]','[0.4957,0.5816]'],\n",
    "                    'AUC-ROC after':['[0.8355,0.8529]','[0.6928,0.8450]','[0.6787,0.8495]']\n",
    "                                      }\n",
    "all_balance=pd.DataFrame(all_data_balance)\n",
    "display(all_balance)\n",
    "\n",
    "         \n"
   ]
  },
  {
   "cell_type": "markdown",
   "metadata": {},
   "source": [
    "Таким образом, видим, что наилучший показателm F1 при использовании downsampling  модели случайного леса, чуть ниже при использовании upsamlinga, также в модели сулчайного леса, а на третьем месте class_weight в модели дерево решения.\n",
    "\n",
    "Для тестирования возьмем наилучшую модель downsampling в сулчайном лесе"
   ]
  },
  {
   "cell_type": "markdown",
   "metadata": {},
   "source": [
    "## Тестирование модели"
   ]
  },
  {
   "cell_type": "markdown",
   "metadata": {},
   "source": [
    "Объединим для обучения валидационную и тренировочный набор данных"
   ]
  },
  {
   "cell_type": "code",
   "execution_count": 33,
   "metadata": {},
   "outputs": [
    {
     "data": {
      "text/html": [
       "<div>\n",
       "<style scoped>\n",
       "    .dataframe tbody tr th:only-of-type {\n",
       "        vertical-align: middle;\n",
       "    }\n",
       "\n",
       "    .dataframe tbody tr th {\n",
       "        vertical-align: top;\n",
       "    }\n",
       "\n",
       "    .dataframe thead th {\n",
       "        text-align: right;\n",
       "    }\n",
       "</style>\n",
       "<table border=\"1\" class=\"dataframe\">\n",
       "  <thead>\n",
       "    <tr style=\"text-align: right;\">\n",
       "      <th></th>\n",
       "      <th>credit_score</th>\n",
       "      <th>age</th>\n",
       "      <th>tenure</th>\n",
       "      <th>balance</th>\n",
       "      <th>num_of_products</th>\n",
       "      <th>has_cr_card</th>\n",
       "      <th>is_active_member</th>\n",
       "      <th>estimated_salary</th>\n",
       "      <th>geography_germany</th>\n",
       "      <th>geography_spain</th>\n",
       "      <th>gender_male</th>\n",
       "    </tr>\n",
       "  </thead>\n",
       "  <tbody>\n",
       "    <tr>\n",
       "      <th>7479</th>\n",
       "      <td>567</td>\n",
       "      <td>35</td>\n",
       "      <td>8</td>\n",
       "      <td>153,137.74</td>\n",
       "      <td>1</td>\n",
       "      <td>1</td>\n",
       "      <td>0</td>\n",
       "      <td>88,659.07</td>\n",
       "      <td>False</td>\n",
       "      <td>True</td>\n",
       "      <td>True</td>\n",
       "    </tr>\n",
       "    <tr>\n",
       "      <th>3411</th>\n",
       "      <td>711</td>\n",
       "      <td>37</td>\n",
       "      <td>8</td>\n",
       "      <td>113,899.92</td>\n",
       "      <td>1</td>\n",
       "      <td>0</td>\n",
       "      <td>0</td>\n",
       "      <td>80,215.20</td>\n",
       "      <td>False</td>\n",
       "      <td>False</td>\n",
       "      <td>False</td>\n",
       "    </tr>\n",
       "    <tr>\n",
       "      <th>6027</th>\n",
       "      <td>850</td>\n",
       "      <td>44</td>\n",
       "      <td>3</td>\n",
       "      <td>140,393.65</td>\n",
       "      <td>2</td>\n",
       "      <td>0</td>\n",
       "      <td>1</td>\n",
       "      <td>186,285.52</td>\n",
       "      <td>True</td>\n",
       "      <td>False</td>\n",
       "      <td>True</td>\n",
       "    </tr>\n",
       "    <tr>\n",
       "      <th>1247</th>\n",
       "      <td>512</td>\n",
       "      <td>24</td>\n",
       "      <td>6</td>\n",
       "      <td>0.00</td>\n",
       "      <td>2</td>\n",
       "      <td>1</td>\n",
       "      <td>0</td>\n",
       "      <td>37,654.31</td>\n",
       "      <td>False</td>\n",
       "      <td>False</td>\n",
       "      <td>True</td>\n",
       "    </tr>\n",
       "    <tr>\n",
       "      <th>3716</th>\n",
       "      <td>665</td>\n",
       "      <td>27</td>\n",
       "      <td>2</td>\n",
       "      <td>147,435.96</td>\n",
       "      <td>1</td>\n",
       "      <td>0</td>\n",
       "      <td>0</td>\n",
       "      <td>187,508.06</td>\n",
       "      <td>True</td>\n",
       "      <td>False</td>\n",
       "      <td>False</td>\n",
       "    </tr>\n",
       "    <tr>\n",
       "      <th>...</th>\n",
       "      <td>...</td>\n",
       "      <td>...</td>\n",
       "      <td>...</td>\n",
       "      <td>...</td>\n",
       "      <td>...</td>\n",
       "      <td>...</td>\n",
       "      <td>...</td>\n",
       "      <td>...</td>\n",
       "      <td>...</td>\n",
       "      <td>...</td>\n",
       "      <td>...</td>\n",
       "    </tr>\n",
       "    <tr>\n",
       "      <th>9335</th>\n",
       "      <td>737</td>\n",
       "      <td>50</td>\n",
       "      <td>4</td>\n",
       "      <td>127,552.85</td>\n",
       "      <td>2</td>\n",
       "      <td>1</td>\n",
       "      <td>0</td>\n",
       "      <td>4,225.11</td>\n",
       "      <td>True</td>\n",
       "      <td>False</td>\n",
       "      <td>True</td>\n",
       "    </tr>\n",
       "    <tr>\n",
       "      <th>7999</th>\n",
       "      <td>826</td>\n",
       "      <td>26</td>\n",
       "      <td>5</td>\n",
       "      <td>142,662.68</td>\n",
       "      <td>1</td>\n",
       "      <td>0</td>\n",
       "      <td>0</td>\n",
       "      <td>60,285.30</td>\n",
       "      <td>False</td>\n",
       "      <td>False</td>\n",
       "      <td>True</td>\n",
       "    </tr>\n",
       "    <tr>\n",
       "      <th>6139</th>\n",
       "      <td>652</td>\n",
       "      <td>37</td>\n",
       "      <td>4</td>\n",
       "      <td>0.00</td>\n",
       "      <td>2</td>\n",
       "      <td>1</td>\n",
       "      <td>0</td>\n",
       "      <td>143,393.24</td>\n",
       "      <td>False</td>\n",
       "      <td>False</td>\n",
       "      <td>False</td>\n",
       "    </tr>\n",
       "    <tr>\n",
       "      <th>9473</th>\n",
       "      <td>608</td>\n",
       "      <td>45</td>\n",
       "      <td>4</td>\n",
       "      <td>0.00</td>\n",
       "      <td>2</td>\n",
       "      <td>0</td>\n",
       "      <td>0</td>\n",
       "      <td>36,697.48</td>\n",
       "      <td>False</td>\n",
       "      <td>True</td>\n",
       "      <td>True</td>\n",
       "    </tr>\n",
       "    <tr>\n",
       "      <th>3366</th>\n",
       "      <td>640</td>\n",
       "      <td>74</td>\n",
       "      <td>2</td>\n",
       "      <td>116,800.25</td>\n",
       "      <td>1</td>\n",
       "      <td>1</td>\n",
       "      <td>1</td>\n",
       "      <td>34,130.43</td>\n",
       "      <td>True</td>\n",
       "      <td>False</td>\n",
       "      <td>False</td>\n",
       "    </tr>\n",
       "  </tbody>\n",
       "</table>\n",
       "<p>8000 rows × 11 columns</p>\n",
       "</div>"
      ],
      "text/plain": [
       "      credit_score  age  tenure    balance  num_of_products  has_cr_card  \\\n",
       "7479           567   35       8 153,137.74                1            1   \n",
       "3411           711   37       8 113,899.92                1            0   \n",
       "6027           850   44       3 140,393.65                2            0   \n",
       "1247           512   24       6       0.00                2            1   \n",
       "3716           665   27       2 147,435.96                1            0   \n",
       "...            ...  ...     ...        ...              ...          ...   \n",
       "9335           737   50       4 127,552.85                2            1   \n",
       "7999           826   26       5 142,662.68                1            0   \n",
       "6139           652   37       4       0.00                2            1   \n",
       "9473           608   45       4       0.00                2            0   \n",
       "3366           640   74       2 116,800.25                1            1   \n",
       "\n",
       "      is_active_member  estimated_salary  geography_germany  geography_spain  \\\n",
       "7479                 0         88,659.07              False             True   \n",
       "3411                 0         80,215.20              False            False   \n",
       "6027                 1        186,285.52               True            False   \n",
       "1247                 0         37,654.31              False            False   \n",
       "3716                 0        187,508.06               True            False   \n",
       "...                ...               ...                ...              ...   \n",
       "9335                 0          4,225.11               True            False   \n",
       "7999                 0         60,285.30              False            False   \n",
       "6139                 0        143,393.24              False            False   \n",
       "9473                 0         36,697.48              False             True   \n",
       "3366                 1         34,130.43               True            False   \n",
       "\n",
       "      gender_male  \n",
       "7479         True  \n",
       "3411        False  \n",
       "6027         True  \n",
       "1247         True  \n",
       "3716        False  \n",
       "...           ...  \n",
       "9335         True  \n",
       "7999         True  \n",
       "6139        False  \n",
       "9473         True  \n",
       "3366        False  \n",
       "\n",
       "[8000 rows x 11 columns]"
      ]
     },
     "metadata": {},
     "output_type": "display_data"
    }
   ],
   "source": [
    "features_train_down = pd.concat([features_train] + [features_valid])\n",
    "target_train_down = pd.concat([target_train] + [target_valid])\n",
    "display(features_train_down)"
   ]
  },
  {
   "cell_type": "code",
   "execution_count": 34,
   "metadata": {},
   "outputs": [],
   "source": [
    "features_downsampled, target_downsampled = downsample(features_train_down, target_train_down, 0.25)"
   ]
  },
  {
   "cell_type": "code",
   "execution_count": 35,
   "metadata": {
    "scrolled": true
   },
   "outputs": [
    {
     "name": "stdout",
     "output_type": "stream",
     "text": [
      "F1 для случайного леса при методе downsampling = 0.5970425138632163\n",
      "AUC-ROC = 0.8497435261524688\n"
     ]
    }
   ],
   "source": [
    "model_test_down = RandomForestClassifier(random_state=12345)\n",
    "model_test_down.fit(features_downsampled, target_downsampled) \n",
    "predicted_test_down = model_test_down.predict(features_test)\n",
    "\n",
    "print('F1 для случайного леса при методе downsampling =', f1_score(target_test, predicted_test_down))\n",
    "print('AUC-ROC =', roc_auc_score(target_test, model_test_down.predict_proba(features_test)[:,1]))"
   ]
  },
  {
   "cell_type": "markdown",
   "metadata": {},
   "source": [
    "Вывод:"
   ]
  },
  {
   "cell_type": "markdown",
   "metadata": {},
   "source": [
    "Общий вывод:"
   ]
  },
  {
   "cell_type": "markdown",
   "metadata": {},
   "source": [
    "по итогу продаленной работы\n",
    "1)провели исследование данных об оттоке клиентов банка.\n",
    "2)подготовили исходные данные, заполнили пропуски, перевели категориальные признаки в численные\n",
    "2.1 исследовали задачи тремя видами машинного обучения:логистическая регрессия, Дерево решений, Случайный лес на выборках с разным способом заполнения без учёта дисбаланса классов\n",
    "3)Используя методы борьбы с дисбалансом: class_weight, upsampling, downsampling, провели исследования и выявили наилучший показател\n",
    "4) Провели тестирование лучшей модели на тестовой выборке, получили метрику F-1 = 0.597, лучше чем на валидационной выборке, что доказывает адекватность выбранной модели. А AUC-ROC 0,85\n",
    "\n"
   ]
  },
  {
   "cell_type": "markdown",
   "metadata": {},
   "source": [
    "## Чек-лист готовности проекта"
   ]
  },
  {
   "cell_type": "markdown",
   "metadata": {},
   "source": [
    "Поставьте 'x' в выполненных пунктах. Далее нажмите Shift+Enter."
   ]
  },
  {
   "cell_type": "markdown",
   "metadata": {},
   "source": [
    "- [x]  Jupyter Notebook открыт\n",
    "- [x]  Весь код выполняется без ошибок\n",
    "- [x]  Ячейки с кодом расположены в порядке исполнения\n",
    "- [x]  Выполнен шаг 1: данные подготовлены\n",
    "- [x]  Выполнен шаг 2: задача исследована\n",
    "    - [x]  Исследован баланс классов\n",
    "    - [x]  Изучены модели без учёта дисбаланса\n",
    "    - [x]  Написаны выводы по результатам исследования\n",
    "- [x]  Выполнен шаг 3: учтён дисбаланс\n",
    "    - [x]  Применено несколько способов борьбы с дисбалансом\n",
    "    - [x]  Написаны выводы по результатам исследования\n",
    "- [x]  Выполнен шаг 4: проведено тестирование\n",
    "- [x]  Удалось достичь *F1*-меры не менее 0.59\n",
    "- [x]  Исследована метрика *AUC-ROC*"
   ]
  },
  {
   "cell_type": "code",
   "execution_count": null,
   "metadata": {},
   "outputs": [],
   "source": []
  }
 ],
 "metadata": {
  "ExecuteTimeLog": [
   {
    "duration": 1629,
    "start_time": "2023-10-14T14:00:54.294Z"
   },
   {
    "duration": 5,
    "start_time": "2023-10-14T14:04:01.162Z"
   },
   {
    "duration": 84,
    "start_time": "2023-10-14T14:04:43.021Z"
   },
   {
    "duration": 233,
    "start_time": "2023-10-14T14:08:38.112Z"
   },
   {
    "duration": 77,
    "start_time": "2023-10-14T14:09:28.826Z"
   },
   {
    "duration": 147,
    "start_time": "2023-10-14T14:10:03.736Z"
   },
   {
    "duration": 63,
    "start_time": "2023-10-14T14:10:07.406Z"
   },
   {
    "duration": 115,
    "start_time": "2023-10-14T14:11:25.640Z"
   },
   {
    "duration": 1730,
    "start_time": "2023-10-14T16:51:04.598Z"
   },
   {
    "duration": 85,
    "start_time": "2023-10-14T16:51:06.331Z"
   },
   {
    "duration": 102,
    "start_time": "2023-10-14T16:51:06.417Z"
   },
   {
    "duration": 115,
    "start_time": "2023-10-14T16:51:23.424Z"
   },
   {
    "duration": 5,
    "start_time": "2023-10-14T16:57:56.038Z"
   },
   {
    "duration": 5,
    "start_time": "2023-10-14T16:58:12.083Z"
   },
   {
    "duration": 4,
    "start_time": "2023-10-14T16:58:57.500Z"
   },
   {
    "duration": 5,
    "start_time": "2023-10-14T17:00:56.061Z"
   },
   {
    "duration": 14,
    "start_time": "2023-10-14T17:01:15.950Z"
   },
   {
    "duration": 5,
    "start_time": "2023-10-14T17:03:36.396Z"
   },
   {
    "duration": 106,
    "start_time": "2023-10-14T17:03:56.780Z"
   },
   {
    "duration": 6,
    "start_time": "2023-10-14T17:04:41.262Z"
   },
   {
    "duration": 5,
    "start_time": "2023-10-14T17:12:50.443Z"
   },
   {
    "duration": 5,
    "start_time": "2023-10-14T17:14:34.248Z"
   },
   {
    "duration": 16,
    "start_time": "2023-10-14T17:15:58.124Z"
   },
   {
    "duration": 75,
    "start_time": "2023-10-14T17:17:16.226Z"
   },
   {
    "duration": 7,
    "start_time": "2023-10-14T17:18:14.936Z"
   },
   {
    "duration": 11,
    "start_time": "2023-10-14T17:31:00.894Z"
   },
   {
    "duration": 20,
    "start_time": "2023-10-14T17:31:16.693Z"
   },
   {
    "duration": 12,
    "start_time": "2023-10-14T17:31:58.067Z"
   },
   {
    "duration": 13,
    "start_time": "2023-10-14T17:33:12.984Z"
   },
   {
    "duration": 9,
    "start_time": "2023-10-14T17:33:38.121Z"
   },
   {
    "duration": 12,
    "start_time": "2023-10-14T17:33:50.152Z"
   },
   {
    "duration": 8,
    "start_time": "2023-10-14T17:34:09.661Z"
   },
   {
    "duration": 14,
    "start_time": "2023-10-14T17:34:56.401Z"
   },
   {
    "duration": 1733,
    "start_time": "2023-10-14T17:36:45.292Z"
   },
   {
    "duration": 1719,
    "start_time": "2023-10-14T17:36:58.223Z"
   },
   {
    "duration": 16,
    "start_time": "2023-10-14T17:39:10.787Z"
   },
   {
    "duration": 16,
    "start_time": "2023-10-14T17:39:27.614Z"
   },
   {
    "duration": 1640,
    "start_time": "2023-10-14T17:39:45.277Z"
   },
   {
    "duration": 12,
    "start_time": "2023-10-14T17:40:58.283Z"
   },
   {
    "duration": 13,
    "start_time": "2023-10-14T17:41:22.721Z"
   },
   {
    "duration": 12,
    "start_time": "2023-10-14T17:43:11.485Z"
   },
   {
    "duration": 13,
    "start_time": "2023-10-14T17:43:17.932Z"
   },
   {
    "duration": 1270,
    "start_time": "2023-10-14T17:45:51.577Z"
   },
   {
    "duration": 14,
    "start_time": "2023-10-14T17:48:14.614Z"
   },
   {
    "duration": 4,
    "start_time": "2023-10-14T17:49:07.785Z"
   },
   {
    "duration": 51,
    "start_time": "2023-10-14T17:49:07.791Z"
   },
   {
    "duration": 106,
    "start_time": "2023-10-14T17:49:07.844Z"
   },
   {
    "duration": 4,
    "start_time": "2023-10-14T17:49:07.952Z"
   },
   {
    "duration": 21,
    "start_time": "2023-10-14T17:49:07.958Z"
   },
   {
    "duration": 8,
    "start_time": "2023-10-14T17:49:07.981Z"
   },
   {
    "duration": 21,
    "start_time": "2023-10-14T17:49:07.990Z"
   },
   {
    "duration": 4,
    "start_time": "2023-10-14T17:49:08.014Z"
   },
   {
    "duration": 18,
    "start_time": "2023-10-14T17:49:08.020Z"
   },
   {
    "duration": 7,
    "start_time": "2023-10-14T17:49:08.040Z"
   },
   {
    "duration": 17,
    "start_time": "2023-10-14T17:49:08.050Z"
   },
   {
    "duration": 12,
    "start_time": "2023-10-14T17:49:46.350Z"
   },
   {
    "duration": 11,
    "start_time": "2023-10-14T17:49:54.377Z"
   },
   {
    "duration": 1783,
    "start_time": "2023-10-16T08:28:01.467Z"
   },
   {
    "duration": 80,
    "start_time": "2023-10-16T08:28:03.252Z"
   },
   {
    "duration": 117,
    "start_time": "2023-10-16T08:28:03.333Z"
   },
   {
    "duration": 5,
    "start_time": "2023-10-16T08:28:03.454Z"
   },
   {
    "duration": 13,
    "start_time": "2023-10-16T08:28:03.461Z"
   },
   {
    "duration": 28,
    "start_time": "2023-10-16T08:28:03.475Z"
   },
   {
    "duration": 36,
    "start_time": "2023-10-16T08:28:03.505Z"
   },
   {
    "duration": 17,
    "start_time": "2023-10-16T08:28:03.542Z"
   },
   {
    "duration": 47,
    "start_time": "2023-10-16T08:28:03.560Z"
   },
   {
    "duration": 30,
    "start_time": "2023-10-16T08:28:03.609Z"
   },
   {
    "duration": 33,
    "start_time": "2023-10-16T08:28:03.641Z"
   },
   {
    "duration": 17,
    "start_time": "2023-10-16T08:29:47.428Z"
   },
   {
    "duration": 5,
    "start_time": "2023-10-16T08:40:50.025Z"
   },
   {
    "duration": 16,
    "start_time": "2023-10-16T08:41:02.491Z"
   },
   {
    "duration": 10,
    "start_time": "2023-10-16T08:41:09.244Z"
   },
   {
    "duration": 3,
    "start_time": "2023-10-16T08:41:29.178Z"
   },
   {
    "duration": 13,
    "start_time": "2023-10-16T08:41:32.235Z"
   },
   {
    "duration": 6,
    "start_time": "2023-10-16T08:47:13.162Z"
   },
   {
    "duration": 6,
    "start_time": "2023-10-16T08:48:29.822Z"
   },
   {
    "duration": 6,
    "start_time": "2023-10-16T08:50:36.568Z"
   },
   {
    "duration": 303,
    "start_time": "2023-10-16T08:51:19.713Z"
   },
   {
    "duration": 4,
    "start_time": "2023-10-16T08:52:17.794Z"
   },
   {
    "duration": 107,
    "start_time": "2023-10-16T10:56:54.101Z"
   },
   {
    "duration": 1835,
    "start_time": "2023-10-16T10:57:13.954Z"
   },
   {
    "duration": 14,
    "start_time": "2023-10-16T10:57:24.396Z"
   },
   {
    "duration": 9,
    "start_time": "2023-10-16T10:57:37.204Z"
   },
   {
    "duration": 7,
    "start_time": "2023-10-16T10:58:42.124Z"
   },
   {
    "duration": 3,
    "start_time": "2023-10-16T11:04:15.015Z"
   },
   {
    "duration": 6,
    "start_time": "2023-10-16T11:04:19.155Z"
   },
   {
    "duration": 12,
    "start_time": "2023-10-16T11:05:05.437Z"
   },
   {
    "duration": 11,
    "start_time": "2023-10-16T11:05:11.674Z"
   },
   {
    "duration": 9,
    "start_time": "2023-10-16T11:05:18.569Z"
   },
   {
    "duration": 6,
    "start_time": "2023-10-16T11:08:20.201Z"
   },
   {
    "duration": 5,
    "start_time": "2023-10-16T11:09:19.402Z"
   },
   {
    "duration": 5,
    "start_time": "2023-10-16T11:10:46.709Z"
   },
   {
    "duration": 10,
    "start_time": "2023-10-16T11:11:15.972Z"
   },
   {
    "duration": 4,
    "start_time": "2023-10-16T11:11:23.518Z"
   },
   {
    "duration": 9,
    "start_time": "2023-10-16T11:11:36.742Z"
   },
   {
    "duration": 15,
    "start_time": "2023-10-16T11:11:46.158Z"
   },
   {
    "duration": 4,
    "start_time": "2023-10-16T11:13:29.995Z"
   },
   {
    "duration": 100,
    "start_time": "2023-10-16T11:13:35.858Z"
   },
   {
    "duration": 101,
    "start_time": "2023-10-16T11:13:54.770Z"
   },
   {
    "duration": 317,
    "start_time": "2023-10-16T11:14:12.538Z"
   },
   {
    "duration": 114,
    "start_time": "2023-10-16T11:14:28.747Z"
   },
   {
    "duration": 195,
    "start_time": "2023-10-16T11:14:34.665Z"
   },
   {
    "duration": 204,
    "start_time": "2023-10-16T11:14:40.729Z"
   },
   {
    "duration": 214,
    "start_time": "2023-10-16T11:14:44.905Z"
   },
   {
    "duration": 7,
    "start_time": "2023-10-16T11:16:49.032Z"
   },
   {
    "duration": 371,
    "start_time": "2023-10-16T11:26:00.323Z"
   },
   {
    "duration": 281,
    "start_time": "2023-10-16T11:27:07.971Z"
   },
   {
    "duration": 158,
    "start_time": "2023-10-16T11:28:06.449Z"
   },
   {
    "duration": 285,
    "start_time": "2023-10-16T11:28:11.751Z"
   },
   {
    "duration": 293,
    "start_time": "2023-10-16T11:35:39.611Z"
   },
   {
    "duration": 283,
    "start_time": "2023-10-16T11:36:11.946Z"
   },
   {
    "duration": 292,
    "start_time": "2023-10-16T11:47:26.604Z"
   },
   {
    "duration": 292,
    "start_time": "2023-10-16T11:47:49.645Z"
   },
   {
    "duration": 303,
    "start_time": "2023-10-16T11:48:05.900Z"
   },
   {
    "duration": 300,
    "start_time": "2023-10-16T11:48:29.219Z"
   },
   {
    "duration": 308,
    "start_time": "2023-10-16T11:49:45.093Z"
   },
   {
    "duration": 1851,
    "start_time": "2023-10-16T13:25:43.592Z"
   },
   {
    "duration": 114,
    "start_time": "2023-10-16T13:25:45.447Z"
   },
   {
    "duration": 134,
    "start_time": "2023-10-16T13:25:45.564Z"
   },
   {
    "duration": 5,
    "start_time": "2023-10-16T13:25:45.700Z"
   },
   {
    "duration": 9,
    "start_time": "2023-10-16T13:25:45.707Z"
   },
   {
    "duration": 5,
    "start_time": "2023-10-16T13:25:45.747Z"
   },
   {
    "duration": 29,
    "start_time": "2023-10-16T13:25:45.755Z"
   },
   {
    "duration": 6,
    "start_time": "2023-10-16T13:25:45.786Z"
   },
   {
    "duration": 21,
    "start_time": "2023-10-16T13:25:45.794Z"
   },
   {
    "duration": 18,
    "start_time": "2023-10-16T13:25:45.816Z"
   },
   {
    "duration": 33,
    "start_time": "2023-10-16T13:25:45.835Z"
   },
   {
    "duration": 4,
    "start_time": "2023-10-16T13:25:45.870Z"
   },
   {
    "duration": 25,
    "start_time": "2023-10-16T13:25:45.876Z"
   },
   {
    "duration": 29,
    "start_time": "2023-10-16T13:25:45.905Z"
   },
   {
    "duration": 40,
    "start_time": "2023-10-16T13:25:45.937Z"
   },
   {
    "duration": 20,
    "start_time": "2023-10-16T13:25:45.979Z"
   },
   {
    "duration": 23,
    "start_time": "2023-10-16T13:25:46.002Z"
   },
   {
    "duration": 35,
    "start_time": "2023-10-16T13:25:46.027Z"
   },
   {
    "duration": 351,
    "start_time": "2023-10-16T13:25:46.064Z"
   },
   {
    "duration": 334,
    "start_time": "2023-10-16T13:29:23.040Z"
   },
   {
    "duration": 346,
    "start_time": "2023-10-16T13:30:01.054Z"
   },
   {
    "duration": 344,
    "start_time": "2023-10-16T13:30:17.970Z"
   },
   {
    "duration": 327,
    "start_time": "2023-10-16T13:30:41.785Z"
   },
   {
    "duration": 356,
    "start_time": "2023-10-16T13:31:00.891Z"
   },
   {
    "duration": 85,
    "start_time": "2023-10-16T13:35:53.844Z"
   },
   {
    "duration": 1968,
    "start_time": "2023-10-18T08:40:43.164Z"
   },
   {
    "duration": 104,
    "start_time": "2023-10-18T08:40:45.134Z"
   },
   {
    "duration": 149,
    "start_time": "2023-10-18T08:40:45.243Z"
   },
   {
    "duration": 6,
    "start_time": "2023-10-18T08:40:45.394Z"
   },
   {
    "duration": 34,
    "start_time": "2023-10-18T08:40:45.413Z"
   },
   {
    "duration": 44,
    "start_time": "2023-10-18T08:40:45.449Z"
   },
   {
    "duration": 76,
    "start_time": "2023-10-18T08:40:45.495Z"
   },
   {
    "duration": 46,
    "start_time": "2023-10-18T08:40:45.573Z"
   },
   {
    "duration": 53,
    "start_time": "2023-10-18T08:40:45.622Z"
   },
   {
    "duration": 7,
    "start_time": "2023-10-18T08:40:45.677Z"
   },
   {
    "duration": 32,
    "start_time": "2023-10-18T08:40:45.686Z"
   },
   {
    "duration": 7,
    "start_time": "2023-10-18T08:40:45.719Z"
   },
   {
    "duration": 47,
    "start_time": "2023-10-18T08:40:45.728Z"
   },
   {
    "duration": 16,
    "start_time": "2023-10-18T08:40:45.778Z"
   },
   {
    "duration": 36,
    "start_time": "2023-10-18T08:40:45.795Z"
   },
   {
    "duration": 30,
    "start_time": "2023-10-18T08:40:45.833Z"
   },
   {
    "duration": 18,
    "start_time": "2023-10-18T08:40:45.865Z"
   },
   {
    "duration": 12,
    "start_time": "2023-10-18T08:40:45.885Z"
   },
   {
    "duration": 399,
    "start_time": "2023-10-18T08:40:45.899Z"
   },
   {
    "duration": 357692,
    "start_time": "2023-10-18T08:40:46.301Z"
   },
   {
    "duration": 356732,
    "start_time": "2023-10-18T08:50:24.001Z"
   },
   {
    "duration": 385468,
    "start_time": "2023-10-18T08:56:34.235Z"
   },
   {
    "duration": 33954,
    "start_time": "2023-10-18T09:03:48.522Z"
   },
   {
    "duration": 151,
    "start_time": "2023-10-18T09:23:33.737Z"
   },
   {
    "duration": 42,
    "start_time": "2023-10-18T09:23:55.204Z"
   },
   {
    "duration": 385,
    "start_time": "2023-10-18T09:24:00.283Z"
   },
   {
    "duration": 407,
    "start_time": "2023-10-18T09:24:45.235Z"
   },
   {
    "duration": 35565,
    "start_time": "2023-10-18T09:26:52.586Z"
   },
   {
    "duration": 39115,
    "start_time": "2023-10-18T09:29:01.377Z"
   },
   {
    "duration": 8,
    "start_time": "2023-10-18T11:04:49.002Z"
   },
   {
    "duration": 2903,
    "start_time": "2023-10-18T11:04:53.639Z"
   },
   {
    "duration": 2144,
    "start_time": "2023-10-18T11:05:25.984Z"
   },
   {
    "duration": 27,
    "start_time": "2023-10-18T11:18:54.706Z"
   },
   {
    "duration": 32,
    "start_time": "2023-10-18T11:19:31.019Z"
   },
   {
    "duration": 37,
    "start_time": "2023-10-18T11:20:33.686Z"
   },
   {
    "duration": 535,
    "start_time": "2023-10-18T11:21:31.186Z"
   },
   {
    "duration": 420,
    "start_time": "2023-10-18T11:23:47.197Z"
   },
   {
    "duration": 1725,
    "start_time": "2023-10-19T09:05:22.029Z"
   },
   {
    "duration": 95,
    "start_time": "2023-10-19T09:05:23.757Z"
   },
   {
    "duration": 140,
    "start_time": "2023-10-19T09:05:23.854Z"
   },
   {
    "duration": 6,
    "start_time": "2023-10-19T09:05:23.996Z"
   },
   {
    "duration": 5,
    "start_time": "2023-10-19T09:05:24.025Z"
   },
   {
    "duration": 15,
    "start_time": "2023-10-19T09:05:24.032Z"
   },
   {
    "duration": 37,
    "start_time": "2023-10-19T09:05:24.049Z"
   },
   {
    "duration": 24,
    "start_time": "2023-10-19T09:05:24.088Z"
   },
   {
    "duration": 38,
    "start_time": "2023-10-19T09:05:24.114Z"
   },
   {
    "duration": 26,
    "start_time": "2023-10-19T09:05:24.154Z"
   },
   {
    "duration": 55,
    "start_time": "2023-10-19T09:05:24.182Z"
   },
   {
    "duration": 10,
    "start_time": "2023-10-19T09:05:24.239Z"
   },
   {
    "duration": 54,
    "start_time": "2023-10-19T09:05:24.251Z"
   },
   {
    "duration": 37,
    "start_time": "2023-10-19T09:05:24.309Z"
   },
   {
    "duration": 35,
    "start_time": "2023-10-19T09:05:24.348Z"
   },
   {
    "duration": 42,
    "start_time": "2023-10-19T09:05:24.386Z"
   },
   {
    "duration": 49,
    "start_time": "2023-10-19T09:05:24.431Z"
   },
   {
    "duration": 85,
    "start_time": "2023-10-19T09:05:24.483Z"
   },
   {
    "duration": 519,
    "start_time": "2023-10-19T09:05:24.571Z"
   },
   {
    "duration": 0,
    "start_time": "2023-10-19T09:05:25.092Z"
   },
   {
    "duration": 0,
    "start_time": "2023-10-19T09:05:25.093Z"
   },
   {
    "duration": 0,
    "start_time": "2023-10-19T09:05:25.095Z"
   },
   {
    "duration": 0,
    "start_time": "2023-10-19T09:05:25.096Z"
   },
   {
    "duration": 364,
    "start_time": "2023-10-19T09:06:11.320Z"
   },
   {
    "duration": 5,
    "start_time": "2023-10-19T09:06:15.479Z"
   },
   {
    "duration": 625,
    "start_time": "2023-10-19T09:06:15.486Z"
   },
   {
    "duration": 428,
    "start_time": "2023-10-19T09:06:16.113Z"
   },
   {
    "duration": 7,
    "start_time": "2023-10-19T09:06:16.543Z"
   },
   {
    "duration": 26,
    "start_time": "2023-10-19T09:06:16.553Z"
   },
   {
    "duration": 35,
    "start_time": "2023-10-19T09:06:16.581Z"
   },
   {
    "duration": 31,
    "start_time": "2023-10-19T09:06:16.618Z"
   },
   {
    "duration": 26,
    "start_time": "2023-10-19T09:06:16.651Z"
   },
   {
    "duration": 44,
    "start_time": "2023-10-19T09:06:16.679Z"
   },
   {
    "duration": 9,
    "start_time": "2023-10-19T09:06:16.725Z"
   },
   {
    "duration": 50,
    "start_time": "2023-10-19T09:06:16.736Z"
   },
   {
    "duration": 6,
    "start_time": "2023-10-19T09:06:16.788Z"
   },
   {
    "duration": 41,
    "start_time": "2023-10-19T09:06:16.797Z"
   },
   {
    "duration": 36,
    "start_time": "2023-10-19T09:06:16.841Z"
   },
   {
    "duration": 18,
    "start_time": "2023-10-19T09:06:16.880Z"
   },
   {
    "duration": 44,
    "start_time": "2023-10-19T09:06:16.900Z"
   },
   {
    "duration": 22,
    "start_time": "2023-10-19T09:06:16.946Z"
   },
   {
    "duration": 58,
    "start_time": "2023-10-19T09:06:16.970Z"
   },
   {
    "duration": 418,
    "start_time": "2023-10-19T09:06:17.030Z"
   },
   {
    "duration": 34683,
    "start_time": "2023-10-19T09:06:17.450Z"
   },
   {
    "duration": 27,
    "start_time": "2023-10-19T09:06:52.135Z"
   },
   {
    "duration": 118,
    "start_time": "2023-10-19T09:06:52.164Z"
   },
   {
    "duration": 156,
    "start_time": "2023-10-19T09:06:52.284Z"
   },
   {
    "duration": 359,
    "start_time": "2023-10-19T09:19:09.943Z"
   },
   {
    "duration": 34101,
    "start_time": "2023-10-19T09:20:37.317Z"
   },
   {
    "duration": 19,
    "start_time": "2023-10-19T09:27:15.429Z"
   },
   {
    "duration": 23,
    "start_time": "2023-10-19T09:31:28.349Z"
   },
   {
    "duration": 10,
    "start_time": "2023-10-19T09:32:10.478Z"
   },
   {
    "duration": 407,
    "start_time": "2023-10-19T09:32:38.132Z"
   },
   {
    "duration": 26,
    "start_time": "2023-10-19T09:35:25.938Z"
   },
   {
    "duration": 17,
    "start_time": "2023-10-19T09:37:55.653Z"
   },
   {
    "duration": 12,
    "start_time": "2023-10-19T09:38:16.772Z"
   },
   {
    "duration": 61,
    "start_time": "2023-10-19T09:39:58.100Z"
   },
   {
    "duration": 1077,
    "start_time": "2023-10-19T09:40:42.348Z"
   },
   {
    "duration": 295,
    "start_time": "2023-10-19T12:10:57.157Z"
   },
   {
    "duration": 366,
    "start_time": "2023-10-19T12:11:08.143Z"
   },
   {
    "duration": 110,
    "start_time": "2023-10-19T12:11:18.838Z"
   },
   {
    "duration": 15,
    "start_time": "2023-10-19T12:11:40.024Z"
   },
   {
    "duration": 13,
    "start_time": "2023-10-19T12:12:12.679Z"
   },
   {
    "duration": 14,
    "start_time": "2023-10-19T12:13:04.567Z"
   },
   {
    "duration": 14,
    "start_time": "2023-10-19T12:13:58.101Z"
   },
   {
    "duration": 10,
    "start_time": "2023-10-19T12:15:24.101Z"
   },
   {
    "duration": 136,
    "start_time": "2023-10-19T12:54:01.731Z"
   },
   {
    "duration": 117,
    "start_time": "2023-10-19T12:54:21.797Z"
   },
   {
    "duration": 11,
    "start_time": "2023-10-19T12:54:28.518Z"
   },
   {
    "duration": 10,
    "start_time": "2023-10-19T12:56:08.357Z"
   },
   {
    "duration": 125,
    "start_time": "2023-10-19T13:02:26.875Z"
   },
   {
    "duration": 83,
    "start_time": "2023-10-19T13:03:10.085Z"
   },
   {
    "duration": 80,
    "start_time": "2023-10-19T13:04:25.430Z"
   },
   {
    "duration": 77,
    "start_time": "2023-10-19T13:04:41.795Z"
   },
   {
    "duration": 217,
    "start_time": "2023-10-19T13:05:10.780Z"
   },
   {
    "duration": 106,
    "start_time": "2023-10-19T13:05:44.499Z"
   },
   {
    "duration": 86,
    "start_time": "2023-10-19T13:05:55.974Z"
   },
   {
    "duration": 101,
    "start_time": "2023-10-19T13:06:40.412Z"
   },
   {
    "duration": 115,
    "start_time": "2023-10-19T13:07:05.187Z"
   },
   {
    "duration": 13,
    "start_time": "2023-10-19T13:07:17.635Z"
   },
   {
    "duration": 17,
    "start_time": "2023-10-19T13:09:08.098Z"
   },
   {
    "duration": 16,
    "start_time": "2023-10-19T13:09:35.530Z"
   },
   {
    "duration": 17,
    "start_time": "2023-10-19T13:10:38.691Z"
   },
   {
    "duration": 16,
    "start_time": "2023-10-19T13:14:15.911Z"
   },
   {
    "duration": 23,
    "start_time": "2023-10-19T13:15:45.680Z"
   },
   {
    "duration": 6,
    "start_time": "2023-10-19T13:46:56.978Z"
   },
   {
    "duration": 16,
    "start_time": "2023-10-19T13:47:55.061Z"
   },
   {
    "duration": 11,
    "start_time": "2023-10-19T13:49:09.334Z"
   },
   {
    "duration": 436,
    "start_time": "2023-10-19T13:55:12.476Z"
   },
   {
    "duration": 463,
    "start_time": "2023-10-19T13:56:33.569Z"
   },
   {
    "duration": 990,
    "start_time": "2023-10-19T14:06:14.349Z"
   },
   {
    "duration": 440,
    "start_time": "2023-10-19T14:07:04.246Z"
   },
   {
    "duration": 12,
    "start_time": "2023-10-19T14:12:20.887Z"
   },
   {
    "duration": 454,
    "start_time": "2023-10-19T14:12:22.246Z"
   },
   {
    "duration": 114,
    "start_time": "2023-10-19T14:14:04.271Z"
   },
   {
    "duration": 3,
    "start_time": "2023-10-19T14:14:07.972Z"
   },
   {
    "duration": 6,
    "start_time": "2023-10-19T14:15:39.732Z"
   },
   {
    "duration": 12,
    "start_time": "2023-10-19T14:15:47.708Z"
   },
   {
    "duration": 1268,
    "start_time": "2023-10-19T14:16:00.557Z"
   },
   {
    "duration": 5,
    "start_time": "2023-10-19T14:16:29.422Z"
   },
   {
    "duration": 206,
    "start_time": "2023-10-19T14:16:29.429Z"
   },
   {
    "duration": 110,
    "start_time": "2023-10-19T14:16:29.636Z"
   },
   {
    "duration": 16,
    "start_time": "2023-10-19T14:16:29.747Z"
   },
   {
    "duration": 42,
    "start_time": "2023-10-19T14:16:29.765Z"
   },
   {
    "duration": 17,
    "start_time": "2023-10-19T14:16:29.809Z"
   },
   {
    "duration": 51,
    "start_time": "2023-10-19T14:16:29.828Z"
   },
   {
    "duration": 116,
    "start_time": "2023-10-19T14:16:29.881Z"
   },
   {
    "duration": 379,
    "start_time": "2023-10-19T14:16:29.999Z"
   },
   {
    "duration": 667,
    "start_time": "2023-10-19T14:16:30.380Z"
   },
   {
    "duration": 327,
    "start_time": "2023-10-19T14:16:31.049Z"
   },
   {
    "duration": 36,
    "start_time": "2023-10-19T14:16:31.378Z"
   },
   {
    "duration": 170,
    "start_time": "2023-10-19T14:16:31.416Z"
   },
   {
    "duration": 49,
    "start_time": "2023-10-19T14:16:31.590Z"
   },
   {
    "duration": 167,
    "start_time": "2023-10-19T14:16:31.641Z"
   },
   {
    "duration": 76,
    "start_time": "2023-10-19T14:16:31.810Z"
   },
   {
    "duration": 69,
    "start_time": "2023-10-19T14:16:31.888Z"
   },
   {
    "duration": 14,
    "start_time": "2023-10-19T14:16:31.959Z"
   },
   {
    "duration": 354,
    "start_time": "2023-10-19T14:16:31.974Z"
   },
   {
    "duration": 32950,
    "start_time": "2023-10-19T14:16:32.330Z"
   },
   {
    "duration": 25,
    "start_time": "2023-10-19T14:17:05.281Z"
   },
   {
    "duration": 338,
    "start_time": "2023-10-19T14:17:05.307Z"
   },
   {
    "duration": 578,
    "start_time": "2023-10-19T14:17:05.647Z"
   },
   {
    "duration": 455,
    "start_time": "2023-10-19T14:17:06.228Z"
   },
   {
    "duration": 32779,
    "start_time": "2023-10-19T14:17:06.685Z"
   },
   {
    "duration": 12,
    "start_time": "2023-10-19T14:17:39.465Z"
   },
   {
    "duration": 157,
    "start_time": "2023-10-19T14:17:39.479Z"
   },
   {
    "duration": 512,
    "start_time": "2023-10-19T14:17:39.638Z"
   },
   {
    "duration": 13,
    "start_time": "2023-10-19T14:17:40.152Z"
   },
   {
    "duration": 314,
    "start_time": "2023-10-19T14:17:40.166Z"
   },
   {
    "duration": 982,
    "start_time": "2023-10-19T14:17:40.482Z"
   },
   {
    "duration": 16,
    "start_time": "2023-10-19T14:17:41.466Z"
   },
   {
    "duration": 206,
    "start_time": "2023-10-19T14:17:41.483Z"
   },
   {
    "duration": 102,
    "start_time": "2023-10-19T14:17:41.690Z"
   },
   {
    "duration": 96,
    "start_time": "2023-10-19T14:17:41.794Z"
   },
   {
    "duration": 550,
    "start_time": "2023-10-19T14:17:41.892Z"
   },
   {
    "duration": 4,
    "start_time": "2023-10-19T14:17:42.444Z"
   },
   {
    "duration": 25,
    "start_time": "2023-10-19T14:17:42.450Z"
   },
   {
    "duration": 1283,
    "start_time": "2023-10-19T14:17:42.477Z"
   },
   {
    "duration": 79,
    "start_time": "2023-10-19T14:31:52.680Z"
   },
   {
    "duration": 75,
    "start_time": "2023-10-19T14:50:23.182Z"
   },
   {
    "duration": 104,
    "start_time": "2023-10-19T15:05:51.515Z"
   },
   {
    "duration": 1712,
    "start_time": "2023-10-20T08:12:58.091Z"
   },
   {
    "duration": 91,
    "start_time": "2023-10-20T08:12:59.805Z"
   },
   {
    "duration": 125,
    "start_time": "2023-10-20T08:12:59.898Z"
   },
   {
    "duration": 5,
    "start_time": "2023-10-20T08:13:00.025Z"
   },
   {
    "duration": 66,
    "start_time": "2023-10-20T08:13:00.046Z"
   },
   {
    "duration": 39,
    "start_time": "2023-10-20T08:13:00.114Z"
   },
   {
    "duration": 32,
    "start_time": "2023-10-20T08:13:00.155Z"
   },
   {
    "duration": 41,
    "start_time": "2023-10-20T08:13:00.189Z"
   },
   {
    "duration": 43,
    "start_time": "2023-10-20T08:13:00.232Z"
   },
   {
    "duration": 38,
    "start_time": "2023-10-20T08:13:00.277Z"
   },
   {
    "duration": 56,
    "start_time": "2023-10-20T08:13:00.317Z"
   },
   {
    "duration": 64,
    "start_time": "2023-10-20T08:13:00.375Z"
   },
   {
    "duration": 36,
    "start_time": "2023-10-20T08:13:00.441Z"
   },
   {
    "duration": 31,
    "start_time": "2023-10-20T08:13:00.480Z"
   },
   {
    "duration": 47,
    "start_time": "2023-10-20T08:13:00.512Z"
   },
   {
    "duration": 49,
    "start_time": "2023-10-20T08:13:00.562Z"
   },
   {
    "duration": 105,
    "start_time": "2023-10-20T08:13:00.613Z"
   },
   {
    "duration": 136,
    "start_time": "2023-10-20T08:13:00.719Z"
   },
   {
    "duration": 416,
    "start_time": "2023-10-20T08:13:00.857Z"
   },
   {
    "duration": 34782,
    "start_time": "2023-10-20T08:13:01.275Z"
   },
   {
    "duration": 23,
    "start_time": "2023-10-20T08:13:36.061Z"
   },
   {
    "duration": 30,
    "start_time": "2023-10-20T08:13:36.086Z"
   },
   {
    "duration": 244,
    "start_time": "2023-10-20T08:13:36.117Z"
   },
   {
    "duration": 496,
    "start_time": "2023-10-20T08:13:36.363Z"
   },
   {
    "duration": 34914,
    "start_time": "2023-10-20T08:13:36.861Z"
   },
   {
    "duration": 13,
    "start_time": "2023-10-20T08:14:11.777Z"
   },
   {
    "duration": 22,
    "start_time": "2023-10-20T08:14:11.792Z"
   },
   {
    "duration": 476,
    "start_time": "2023-10-20T08:14:11.816Z"
   },
   {
    "duration": 13,
    "start_time": "2023-10-20T08:14:12.294Z"
   },
   {
    "duration": 69,
    "start_time": "2023-10-20T08:14:12.309Z"
   },
   {
    "duration": 1035,
    "start_time": "2023-10-20T08:14:12.380Z"
   },
   {
    "duration": 17,
    "start_time": "2023-10-20T08:14:13.417Z"
   },
   {
    "duration": 17,
    "start_time": "2023-10-20T08:14:13.435Z"
   },
   {
    "duration": 15,
    "start_time": "2023-10-20T08:14:13.458Z"
   },
   {
    "duration": 14,
    "start_time": "2023-10-20T08:14:13.474Z"
   },
   {
    "duration": 676,
    "start_time": "2023-10-20T08:14:13.489Z"
   },
   {
    "duration": 176,
    "start_time": "2023-10-20T08:21:08.493Z"
   },
   {
    "duration": 206,
    "start_time": "2023-10-20T08:22:39.302Z"
   },
   {
    "duration": 15,
    "start_time": "2023-10-20T08:23:48.791Z"
   },
   {
    "duration": 3895,
    "start_time": "2023-10-20T19:48:42.483Z"
   },
   {
    "duration": 84,
    "start_time": "2023-10-20T19:48:46.380Z"
   },
   {
    "duration": 108,
    "start_time": "2023-10-20T19:48:46.466Z"
   },
   {
    "duration": 4,
    "start_time": "2023-10-20T19:48:46.576Z"
   },
   {
    "duration": 6,
    "start_time": "2023-10-20T19:48:46.582Z"
   },
   {
    "duration": 7,
    "start_time": "2023-10-20T19:48:46.589Z"
   },
   {
    "duration": 18,
    "start_time": "2023-10-20T19:48:46.597Z"
   },
   {
    "duration": 27,
    "start_time": "2023-10-20T19:48:46.617Z"
   },
   {
    "duration": 19,
    "start_time": "2023-10-20T19:48:46.645Z"
   },
   {
    "duration": 8,
    "start_time": "2023-10-20T19:48:46.668Z"
   },
   {
    "duration": 19,
    "start_time": "2023-10-20T19:48:46.678Z"
   },
   {
    "duration": 3,
    "start_time": "2023-10-20T19:48:46.699Z"
   },
   {
    "duration": 41,
    "start_time": "2023-10-20T19:48:46.703Z"
   },
   {
    "duration": 9,
    "start_time": "2023-10-20T19:48:46.746Z"
   },
   {
    "duration": 11,
    "start_time": "2023-10-20T19:48:46.757Z"
   },
   {
    "duration": 24,
    "start_time": "2023-10-20T19:48:46.769Z"
   },
   {
    "duration": 18,
    "start_time": "2023-10-20T19:48:46.795Z"
   },
   {
    "duration": 22,
    "start_time": "2023-10-20T19:48:46.815Z"
   },
   {
    "duration": 362,
    "start_time": "2023-10-20T19:48:46.839Z"
   },
   {
    "duration": 6,
    "start_time": "2023-10-20T19:55:02.251Z"
   },
   {
    "duration": 279,
    "start_time": "2023-10-20T19:55:02.259Z"
   },
   {
    "duration": 113,
    "start_time": "2023-10-20T19:55:02.540Z"
   },
   {
    "duration": 5,
    "start_time": "2023-10-20T19:55:02.655Z"
   },
   {
    "duration": 79,
    "start_time": "2023-10-20T19:55:02.662Z"
   },
   {
    "duration": 56,
    "start_time": "2023-10-20T19:55:02.743Z"
   },
   {
    "duration": 68,
    "start_time": "2023-10-20T19:55:02.801Z"
   },
   {
    "duration": 45,
    "start_time": "2023-10-20T19:55:02.871Z"
   },
   {
    "duration": 30,
    "start_time": "2023-10-20T19:55:02.918Z"
   },
   {
    "duration": 29,
    "start_time": "2023-10-20T19:55:02.950Z"
   },
   {
    "duration": 36,
    "start_time": "2023-10-20T19:55:02.981Z"
   },
   {
    "duration": 4,
    "start_time": "2023-10-20T19:55:03.019Z"
   },
   {
    "duration": 32,
    "start_time": "2023-10-20T19:55:03.024Z"
   },
   {
    "duration": 23,
    "start_time": "2023-10-20T19:55:03.060Z"
   },
   {
    "duration": 43,
    "start_time": "2023-10-20T19:55:03.084Z"
   },
   {
    "duration": 8,
    "start_time": "2023-10-20T19:55:03.129Z"
   },
   {
    "duration": 25,
    "start_time": "2023-10-20T19:55:03.139Z"
   },
   {
    "duration": 31,
    "start_time": "2023-10-20T19:55:03.166Z"
   },
   {
    "duration": 381,
    "start_time": "2023-10-20T19:55:03.199Z"
   },
   {
    "duration": 32953,
    "start_time": "2023-10-20T19:55:03.582Z"
   },
   {
    "duration": 27,
    "start_time": "2023-10-20T19:55:36.537Z"
   },
   {
    "duration": 40,
    "start_time": "2023-10-20T19:55:36.566Z"
   },
   {
    "duration": 838,
    "start_time": "2023-10-20T19:55:36.609Z"
   },
   {
    "duration": 447,
    "start_time": "2023-10-20T19:55:37.450Z"
   },
   {
    "duration": 33059,
    "start_time": "2023-10-20T19:55:37.898Z"
   },
   {
    "duration": 14,
    "start_time": "2023-10-20T19:56:10.959Z"
   },
   {
    "duration": 30,
    "start_time": "2023-10-20T19:56:10.974Z"
   },
   {
    "duration": 415,
    "start_time": "2023-10-20T19:56:11.006Z"
   },
   {
    "duration": 14,
    "start_time": "2023-10-20T19:56:11.422Z"
   },
   {
    "duration": 47,
    "start_time": "2023-10-20T19:56:11.444Z"
   },
   {
    "duration": 995,
    "start_time": "2023-10-20T19:56:11.493Z"
   },
   {
    "duration": 16,
    "start_time": "2023-10-20T19:56:12.489Z"
   },
   {
    "duration": 4,
    "start_time": "2023-10-20T19:56:12.506Z"
   },
   {
    "duration": 38,
    "start_time": "2023-10-20T19:56:12.512Z"
   },
   {
    "duration": 581,
    "start_time": "2023-10-20T19:56:12.551Z"
   },
   {
    "duration": 1646,
    "start_time": "2023-10-21T06:17:42.410Z"
   },
   {
    "duration": 92,
    "start_time": "2023-10-21T06:17:44.058Z"
   },
   {
    "duration": 107,
    "start_time": "2023-10-21T06:17:44.152Z"
   },
   {
    "duration": 4,
    "start_time": "2023-10-21T06:17:44.260Z"
   },
   {
    "duration": 138,
    "start_time": "2023-10-21T06:17:44.266Z"
   },
   {
    "duration": 95,
    "start_time": "2023-10-21T06:17:44.406Z"
   },
   {
    "duration": 79,
    "start_time": "2023-10-21T06:17:44.503Z"
   },
   {
    "duration": 34,
    "start_time": "2023-10-21T06:17:44.584Z"
   },
   {
    "duration": 32,
    "start_time": "2023-10-21T06:17:44.620Z"
   },
   {
    "duration": 7,
    "start_time": "2023-10-21T06:17:44.654Z"
   },
   {
    "duration": 21,
    "start_time": "2023-10-21T06:17:44.663Z"
   },
   {
    "duration": 3,
    "start_time": "2023-10-21T06:17:44.686Z"
   },
   {
    "duration": 17,
    "start_time": "2023-10-21T06:17:44.691Z"
   },
   {
    "duration": 35,
    "start_time": "2023-10-21T06:17:44.712Z"
   },
   {
    "duration": 30,
    "start_time": "2023-10-21T06:17:44.749Z"
   },
   {
    "duration": 17,
    "start_time": "2023-10-21T06:17:44.781Z"
   },
   {
    "duration": 24,
    "start_time": "2023-10-21T06:17:44.799Z"
   },
   {
    "duration": 26,
    "start_time": "2023-10-21T06:17:44.825Z"
   },
   {
    "duration": 333,
    "start_time": "2023-10-21T06:17:44.852Z"
   },
   {
    "duration": 31882,
    "start_time": "2023-10-21T06:17:45.186Z"
   },
   {
    "duration": 23,
    "start_time": "2023-10-21T06:18:17.070Z"
   },
   {
    "duration": 42,
    "start_time": "2023-10-21T06:18:17.095Z"
   },
   {
    "duration": 306,
    "start_time": "2023-10-21T06:18:17.143Z"
   },
   {
    "duration": 509,
    "start_time": "2023-10-21T06:18:17.452Z"
   },
   {
    "duration": 32476,
    "start_time": "2023-10-21T06:18:17.963Z"
   },
   {
    "duration": 13,
    "start_time": "2023-10-21T06:18:50.440Z"
   },
   {
    "duration": 32,
    "start_time": "2023-10-21T06:18:50.454Z"
   },
   {
    "duration": 433,
    "start_time": "2023-10-21T06:18:50.488Z"
   },
   {
    "duration": 21,
    "start_time": "2023-10-21T06:18:50.923Z"
   },
   {
    "duration": 50,
    "start_time": "2023-10-21T06:18:50.946Z"
   },
   {
    "duration": 989,
    "start_time": "2023-10-21T06:18:50.998Z"
   },
   {
    "duration": 14,
    "start_time": "2023-10-21T06:18:51.989Z"
   },
   {
    "duration": 23,
    "start_time": "2023-10-21T06:18:52.005Z"
   },
   {
    "duration": 42,
    "start_time": "2023-10-21T06:18:52.030Z"
   },
   {
    "duration": 620,
    "start_time": "2023-10-21T06:18:52.073Z"
   },
   {
    "duration": 5,
    "start_time": "2023-10-21T06:27:04.243Z"
   },
   {
    "duration": 76,
    "start_time": "2023-10-21T06:27:04.250Z"
   },
   {
    "duration": 159,
    "start_time": "2023-10-21T06:27:04.328Z"
   },
   {
    "duration": 5,
    "start_time": "2023-10-21T06:27:04.489Z"
   },
   {
    "duration": 8,
    "start_time": "2023-10-21T06:27:04.496Z"
   },
   {
    "duration": 17,
    "start_time": "2023-10-21T06:27:04.505Z"
   },
   {
    "duration": 35,
    "start_time": "2023-10-21T06:27:04.524Z"
   },
   {
    "duration": 5,
    "start_time": "2023-10-21T06:27:04.561Z"
   },
   {
    "duration": 23,
    "start_time": "2023-10-21T06:27:04.569Z"
   },
   {
    "duration": 8,
    "start_time": "2023-10-21T06:27:04.594Z"
   },
   {
    "duration": 43,
    "start_time": "2023-10-21T06:27:04.604Z"
   },
   {
    "duration": 5,
    "start_time": "2023-10-21T06:27:04.649Z"
   },
   {
    "duration": 16,
    "start_time": "2023-10-21T06:27:04.655Z"
   },
   {
    "duration": 16,
    "start_time": "2023-10-21T06:27:04.672Z"
   },
   {
    "duration": 17,
    "start_time": "2023-10-21T06:27:04.689Z"
   },
   {
    "duration": 6,
    "start_time": "2023-10-21T06:27:04.707Z"
   },
   {
    "duration": 10,
    "start_time": "2023-10-21T06:27:04.714Z"
   },
   {
    "duration": 24,
    "start_time": "2023-10-21T06:27:04.726Z"
   },
   {
    "duration": 369,
    "start_time": "2023-10-21T06:27:04.752Z"
   },
   {
    "duration": 32578,
    "start_time": "2023-10-21T06:27:05.124Z"
   },
   {
    "duration": 21,
    "start_time": "2023-10-21T06:27:37.704Z"
   },
   {
    "duration": 37,
    "start_time": "2023-10-21T06:27:37.726Z"
   },
   {
    "duration": 285,
    "start_time": "2023-10-21T06:27:37.765Z"
   },
   {
    "duration": 432,
    "start_time": "2023-10-21T06:27:38.144Z"
   },
   {
    "duration": 32817,
    "start_time": "2023-10-21T06:27:38.578Z"
   },
   {
    "duration": 12,
    "start_time": "2023-10-21T06:28:11.396Z"
   },
   {
    "duration": 44,
    "start_time": "2023-10-21T06:28:11.409Z"
   },
   {
    "duration": 404,
    "start_time": "2023-10-21T06:28:11.454Z"
   },
   {
    "duration": 12,
    "start_time": "2023-10-21T06:28:11.860Z"
   },
   {
    "duration": 44,
    "start_time": "2023-10-21T06:28:11.874Z"
   },
   {
    "duration": 981,
    "start_time": "2023-10-21T06:28:11.919Z"
   },
   {
    "duration": 14,
    "start_time": "2023-10-21T06:28:12.902Z"
   },
   {
    "duration": 14,
    "start_time": "2023-10-21T06:28:12.918Z"
   },
   {
    "duration": 16,
    "start_time": "2023-10-21T06:28:12.934Z"
   },
   {
    "duration": 441,
    "start_time": "2023-10-21T06:28:12.952Z"
   },
   {
    "duration": 12,
    "start_time": "2023-10-21T06:28:13.395Z"
   },
   {
    "duration": 15,
    "start_time": "2023-10-21T06:35:56.427Z"
   },
   {
    "duration": 15,
    "start_time": "2023-10-21T06:36:45.120Z"
   },
   {
    "duration": 6,
    "start_time": "2023-10-21T06:39:40.183Z"
   },
   {
    "duration": 14,
    "start_time": "2023-10-21T06:39:58.334Z"
   },
   {
    "duration": 437,
    "start_time": "2023-10-21T06:40:05.009Z"
   },
   {
    "duration": 433,
    "start_time": "2023-10-21T06:41:20.449Z"
   },
   {
    "duration": 13,
    "start_time": "2023-10-21T06:48:55.348Z"
   },
   {
    "duration": 5,
    "start_time": "2023-10-21T06:49:01.737Z"
   },
   {
    "duration": 136,
    "start_time": "2023-10-21T06:49:01.746Z"
   },
   {
    "duration": 99,
    "start_time": "2023-10-21T06:49:01.884Z"
   },
   {
    "duration": 4,
    "start_time": "2023-10-21T06:49:01.985Z"
   },
   {
    "duration": 60,
    "start_time": "2023-10-21T06:49:01.992Z"
   },
   {
    "duration": 71,
    "start_time": "2023-10-21T06:49:02.054Z"
   },
   {
    "duration": 70,
    "start_time": "2023-10-21T06:49:02.127Z"
   },
   {
    "duration": 36,
    "start_time": "2023-10-21T06:49:02.199Z"
   },
   {
    "duration": 72,
    "start_time": "2023-10-21T06:49:02.237Z"
   },
   {
    "duration": 49,
    "start_time": "2023-10-21T06:49:02.311Z"
   },
   {
    "duration": 91,
    "start_time": "2023-10-21T06:49:02.364Z"
   },
   {
    "duration": 9,
    "start_time": "2023-10-21T06:49:02.456Z"
   },
   {
    "duration": 37,
    "start_time": "2023-10-21T06:49:02.466Z"
   },
   {
    "duration": 24,
    "start_time": "2023-10-21T06:49:02.505Z"
   },
   {
    "duration": 32,
    "start_time": "2023-10-21T06:49:02.531Z"
   },
   {
    "duration": 18,
    "start_time": "2023-10-21T06:49:02.565Z"
   },
   {
    "duration": 16,
    "start_time": "2023-10-21T06:49:02.586Z"
   },
   {
    "duration": 120,
    "start_time": "2023-10-21T06:49:02.604Z"
   },
   {
    "duration": 414,
    "start_time": "2023-10-21T06:49:02.725Z"
   },
   {
    "duration": 32605,
    "start_time": "2023-10-21T06:49:03.144Z"
   },
   {
    "duration": 22,
    "start_time": "2023-10-21T06:49:35.750Z"
   },
   {
    "duration": 101,
    "start_time": "2023-10-21T06:49:35.774Z"
   },
   {
    "duration": 274,
    "start_time": "2023-10-21T06:49:35.877Z"
   },
   {
    "duration": 507,
    "start_time": "2023-10-21T06:49:36.153Z"
   },
   {
    "duration": 33101,
    "start_time": "2023-10-21T06:49:36.661Z"
   },
   {
    "duration": 11,
    "start_time": "2023-10-21T06:50:09.764Z"
   },
   {
    "duration": 30,
    "start_time": "2023-10-21T06:50:09.776Z"
   },
   {
    "duration": 405,
    "start_time": "2023-10-21T06:50:09.807Z"
   },
   {
    "duration": 12,
    "start_time": "2023-10-21T06:50:10.215Z"
   },
   {
    "duration": 61,
    "start_time": "2023-10-21T06:50:10.229Z"
   },
   {
    "duration": 981,
    "start_time": "2023-10-21T06:50:10.292Z"
   },
   {
    "duration": 14,
    "start_time": "2023-10-21T06:50:11.274Z"
   },
   {
    "duration": 4,
    "start_time": "2023-10-21T06:50:11.290Z"
   },
   {
    "duration": 10,
    "start_time": "2023-10-21T06:50:11.296Z"
   },
   {
    "duration": 456,
    "start_time": "2023-10-21T06:50:11.307Z"
   },
   {
    "duration": 140,
    "start_time": "2023-10-21T06:50:29.296Z"
   },
   {
    "duration": 10,
    "start_time": "2023-10-21T06:50:37.443Z"
   },
   {
    "duration": 454,
    "start_time": "2023-10-21T06:53:41.836Z"
   },
   {
    "duration": 1716,
    "start_time": "2023-10-21T10:46:01.821Z"
   },
   {
    "duration": 171,
    "start_time": "2023-10-21T10:46:03.539Z"
   },
   {
    "duration": 109,
    "start_time": "2023-10-21T10:46:03.711Z"
   },
   {
    "duration": 4,
    "start_time": "2023-10-21T10:46:03.822Z"
   },
   {
    "duration": 7,
    "start_time": "2023-10-21T10:46:03.847Z"
   },
   {
    "duration": 13,
    "start_time": "2023-10-21T10:46:03.855Z"
   },
   {
    "duration": 10,
    "start_time": "2023-10-21T10:46:03.870Z"
   },
   {
    "duration": 5,
    "start_time": "2023-10-21T10:46:03.882Z"
   },
   {
    "duration": 16,
    "start_time": "2023-10-21T10:46:03.888Z"
   },
   {
    "duration": 6,
    "start_time": "2023-10-21T10:46:03.906Z"
   },
   {
    "duration": 56,
    "start_time": "2023-10-21T10:46:03.913Z"
   },
   {
    "duration": 4,
    "start_time": "2023-10-21T10:46:03.970Z"
   },
   {
    "duration": 16,
    "start_time": "2023-10-21T10:46:03.976Z"
   },
   {
    "duration": 11,
    "start_time": "2023-10-21T10:46:03.994Z"
   },
   {
    "duration": 13,
    "start_time": "2023-10-21T10:46:04.006Z"
   },
   {
    "duration": 31,
    "start_time": "2023-10-21T10:46:04.021Z"
   },
   {
    "duration": 4,
    "start_time": "2023-10-21T10:46:04.060Z"
   },
   {
    "duration": 17,
    "start_time": "2023-10-21T10:46:04.066Z"
   },
   {
    "duration": 392,
    "start_time": "2023-10-21T10:46:04.086Z"
   },
   {
    "duration": 34182,
    "start_time": "2023-10-21T10:46:04.486Z"
   },
   {
    "duration": 29,
    "start_time": "2023-10-21T10:46:38.671Z"
   },
   {
    "duration": 51,
    "start_time": "2023-10-21T10:46:38.701Z"
   },
   {
    "duration": 122,
    "start_time": "2023-10-21T10:46:38.753Z"
   },
   {
    "duration": 478,
    "start_time": "2023-10-21T10:46:38.946Z"
   },
   {
    "duration": 34437,
    "start_time": "2023-10-21T10:46:39.426Z"
   },
   {
    "duration": 16,
    "start_time": "2023-10-21T10:47:13.864Z"
   },
   {
    "duration": 34,
    "start_time": "2023-10-21T10:47:13.882Z"
   },
   {
    "duration": 491,
    "start_time": "2023-10-21T10:47:13.918Z"
   },
   {
    "duration": 16,
    "start_time": "2023-10-21T10:47:14.411Z"
   },
   {
    "duration": 66,
    "start_time": "2023-10-21T10:47:14.430Z"
   },
   {
    "duration": 1053,
    "start_time": "2023-10-21T10:47:14.498Z"
   },
   {
    "duration": 22,
    "start_time": "2023-10-21T10:47:15.555Z"
   },
   {
    "duration": 18,
    "start_time": "2023-10-21T10:47:15.579Z"
   },
   {
    "duration": 41,
    "start_time": "2023-10-21T10:47:15.598Z"
   },
   {
    "duration": 486,
    "start_time": "2023-10-21T10:47:15.641Z"
   },
   {
    "duration": 7,
    "start_time": "2023-10-21T10:54:02.470Z"
   },
   {
    "duration": 96,
    "start_time": "2023-10-21T10:54:02.478Z"
   },
   {
    "duration": 151,
    "start_time": "2023-10-21T10:54:02.575Z"
   },
   {
    "duration": 5,
    "start_time": "2023-10-21T10:54:02.728Z"
   },
   {
    "duration": 12,
    "start_time": "2023-10-21T10:54:02.735Z"
   },
   {
    "duration": 24,
    "start_time": "2023-10-21T10:54:02.756Z"
   },
   {
    "duration": 18,
    "start_time": "2023-10-21T10:54:02.782Z"
   },
   {
    "duration": 5,
    "start_time": "2023-10-21T10:54:02.803Z"
   },
   {
    "duration": 23,
    "start_time": "2023-10-21T10:54:02.810Z"
   },
   {
    "duration": 35,
    "start_time": "2023-10-21T10:54:02.835Z"
   },
   {
    "duration": 30,
    "start_time": "2023-10-21T10:54:02.873Z"
   },
   {
    "duration": 4,
    "start_time": "2023-10-21T10:54:02.905Z"
   },
   {
    "duration": 54,
    "start_time": "2023-10-21T10:54:02.911Z"
   },
   {
    "duration": 17,
    "start_time": "2023-10-21T10:54:02.973Z"
   },
   {
    "duration": 12,
    "start_time": "2023-10-21T10:54:02.992Z"
   },
   {
    "duration": 7,
    "start_time": "2023-10-21T10:54:03.006Z"
   },
   {
    "duration": 18,
    "start_time": "2023-10-21T10:54:03.015Z"
   },
   {
    "duration": 37,
    "start_time": "2023-10-21T10:54:03.035Z"
   },
   {
    "duration": 400,
    "start_time": "2023-10-21T10:54:03.077Z"
   },
   {
    "duration": 35265,
    "start_time": "2023-10-21T10:54:03.479Z"
   },
   {
    "duration": 32,
    "start_time": "2023-10-21T10:54:38.749Z"
   },
   {
    "duration": 35,
    "start_time": "2023-10-21T10:54:38.783Z"
   },
   {
    "duration": 658,
    "start_time": "2023-10-21T10:54:38.820Z"
   },
   {
    "duration": 540,
    "start_time": "2023-10-21T10:54:39.492Z"
   },
   {
    "duration": 35061,
    "start_time": "2023-10-21T10:54:40.034Z"
   },
   {
    "duration": 13,
    "start_time": "2023-10-21T10:55:15.096Z"
   },
   {
    "duration": 37,
    "start_time": "2023-10-21T10:55:15.111Z"
   },
   {
    "duration": 430,
    "start_time": "2023-10-21T10:55:15.150Z"
   },
   {
    "duration": 14,
    "start_time": "2023-10-21T10:55:15.581Z"
   },
   {
    "duration": 71,
    "start_time": "2023-10-21T10:55:15.596Z"
   },
   {
    "duration": 1050,
    "start_time": "2023-10-21T10:55:15.668Z"
   },
   {
    "duration": 26,
    "start_time": "2023-10-21T10:55:16.719Z"
   },
   {
    "duration": 7,
    "start_time": "2023-10-21T10:55:16.753Z"
   },
   {
    "duration": 20,
    "start_time": "2023-10-21T10:55:16.765Z"
   },
   {
    "duration": 104,
    "start_time": "2023-10-21T10:55:16.787Z"
   },
   {
    "duration": 450,
    "start_time": "2023-10-21T10:55:26.943Z"
   },
   {
    "duration": 1694,
    "start_time": "2023-10-22T10:44:43.738Z"
   },
   {
    "duration": 84,
    "start_time": "2023-10-22T10:44:45.435Z"
   },
   {
    "duration": 130,
    "start_time": "2023-10-22T10:44:45.521Z"
   },
   {
    "duration": 4,
    "start_time": "2023-10-22T10:44:45.653Z"
   },
   {
    "duration": 28,
    "start_time": "2023-10-22T10:44:45.659Z"
   },
   {
    "duration": 22,
    "start_time": "2023-10-22T10:44:45.688Z"
   },
   {
    "duration": 40,
    "start_time": "2023-10-22T10:44:45.711Z"
   },
   {
    "duration": 37,
    "start_time": "2023-10-22T10:44:45.753Z"
   },
   {
    "duration": 26,
    "start_time": "2023-10-22T10:44:45.792Z"
   },
   {
    "duration": 19,
    "start_time": "2023-10-22T10:44:45.820Z"
   },
   {
    "duration": 21,
    "start_time": "2023-10-22T10:44:45.841Z"
   },
   {
    "duration": 4,
    "start_time": "2023-10-22T10:44:45.864Z"
   },
   {
    "duration": 23,
    "start_time": "2023-10-22T10:44:45.870Z"
   },
   {
    "duration": 16,
    "start_time": "2023-10-22T10:44:45.897Z"
   },
   {
    "duration": 34,
    "start_time": "2023-10-22T10:44:45.915Z"
   },
   {
    "duration": 20,
    "start_time": "2023-10-22T10:44:45.951Z"
   },
   {
    "duration": 22,
    "start_time": "2023-10-22T10:44:45.973Z"
   },
   {
    "duration": 17,
    "start_time": "2023-10-22T10:44:45.998Z"
   },
   {
    "duration": 373,
    "start_time": "2023-10-22T10:44:46.017Z"
   },
   {
    "duration": 33932,
    "start_time": "2023-10-22T10:44:46.391Z"
   },
   {
    "duration": 40,
    "start_time": "2023-10-22T10:45:20.324Z"
   },
   {
    "duration": 30,
    "start_time": "2023-10-22T10:45:20.366Z"
   },
   {
    "duration": 239,
    "start_time": "2023-10-22T10:45:20.397Z"
   },
   {
    "duration": 506,
    "start_time": "2023-10-22T10:45:20.641Z"
   },
   {
    "duration": 35223,
    "start_time": "2023-10-22T10:45:21.149Z"
   },
   {
    "duration": 11,
    "start_time": "2023-10-22T10:45:56.374Z"
   },
   {
    "duration": 91,
    "start_time": "2023-10-22T10:45:56.387Z"
   },
   {
    "duration": 488,
    "start_time": "2023-10-22T10:45:56.480Z"
   },
   {
    "duration": 13,
    "start_time": "2023-10-22T10:45:56.970Z"
   },
   {
    "duration": 82,
    "start_time": "2023-10-22T10:45:56.985Z"
   },
   {
    "duration": 1027,
    "start_time": "2023-10-22T10:45:57.069Z"
   },
   {
    "duration": 33,
    "start_time": "2023-10-22T10:45:58.098Z"
   },
   {
    "duration": 6,
    "start_time": "2023-10-22T10:45:58.141Z"
   },
   {
    "duration": 11,
    "start_time": "2023-10-22T10:45:58.149Z"
   },
   {
    "duration": 418,
    "start_time": "2023-10-22T10:45:58.161Z"
   },
   {
    "duration": 148,
    "start_time": "2023-10-22T10:48:33.915Z"
   },
   {
    "duration": 12,
    "start_time": "2023-10-22T10:49:24.865Z"
   },
   {
    "duration": 16,
    "start_time": "2023-10-22T10:49:33.992Z"
   },
   {
    "duration": 10,
    "start_time": "2023-10-22T10:53:15.173Z"
   },
   {
    "duration": 19,
    "start_time": "2023-10-22T10:53:45.283Z"
   },
   {
    "duration": 10,
    "start_time": "2023-10-22T10:54:01.854Z"
   },
   {
    "duration": 440,
    "start_time": "2023-10-22T10:54:06.865Z"
   },
   {
    "duration": 27,
    "start_time": "2023-10-22T10:54:46.044Z"
   },
   {
    "duration": 24,
    "start_time": "2023-10-22T10:55:53.453Z"
   },
   {
    "duration": 23,
    "start_time": "2023-10-22T10:56:13.872Z"
   },
   {
    "duration": 10,
    "start_time": "2023-10-22T10:56:19.449Z"
   },
   {
    "duration": 414,
    "start_time": "2023-10-22T10:56:23.395Z"
   },
   {
    "duration": 28,
    "start_time": "2023-10-22T10:59:06.947Z"
   },
   {
    "duration": 44,
    "start_time": "2023-10-22T10:59:25.965Z"
   },
   {
    "duration": 40,
    "start_time": "2023-10-22T11:00:19.652Z"
   },
   {
    "duration": 12,
    "start_time": "2023-10-22T11:00:26.420Z"
   },
   {
    "duration": 448,
    "start_time": "2023-10-22T11:00:30.047Z"
   },
   {
    "duration": 32,
    "start_time": "2023-10-22T11:01:41.208Z"
   },
   {
    "duration": 12,
    "start_time": "2023-10-22T11:01:46.183Z"
   },
   {
    "duration": 437,
    "start_time": "2023-10-22T11:01:50.162Z"
   },
   {
    "duration": 1420,
    "start_time": "2023-10-22T12:36:10.255Z"
   },
   {
    "duration": 78,
    "start_time": "2023-10-22T12:36:11.677Z"
   },
   {
    "duration": 85,
    "start_time": "2023-10-22T12:36:11.756Z"
   },
   {
    "duration": 3,
    "start_time": "2023-10-22T12:36:11.842Z"
   },
   {
    "duration": 47,
    "start_time": "2023-10-22T12:36:11.847Z"
   },
   {
    "duration": 46,
    "start_time": "2023-10-22T12:36:11.895Z"
   },
   {
    "duration": 39,
    "start_time": "2023-10-22T12:36:11.942Z"
   },
   {
    "duration": 45,
    "start_time": "2023-10-22T12:36:11.982Z"
   },
   {
    "duration": 38,
    "start_time": "2023-10-22T12:36:12.029Z"
   },
   {
    "duration": 9,
    "start_time": "2023-10-22T12:36:12.069Z"
   },
   {
    "duration": 40,
    "start_time": "2023-10-22T12:36:12.079Z"
   },
   {
    "duration": 10,
    "start_time": "2023-10-22T12:36:12.120Z"
   },
   {
    "duration": 34,
    "start_time": "2023-10-22T12:36:12.131Z"
   },
   {
    "duration": 26,
    "start_time": "2023-10-22T12:36:12.167Z"
   },
   {
    "duration": 6,
    "start_time": "2023-10-22T12:36:12.195Z"
   },
   {
    "duration": 4,
    "start_time": "2023-10-22T12:36:12.203Z"
   },
   {
    "duration": 4,
    "start_time": "2023-10-22T12:36:12.208Z"
   },
   {
    "duration": 6,
    "start_time": "2023-10-22T12:36:12.214Z"
   },
   {
    "duration": 434,
    "start_time": "2023-10-22T12:36:12.221Z"
   },
   {
    "duration": 31772,
    "start_time": "2023-10-22T12:36:12.657Z"
   },
   {
    "duration": 23,
    "start_time": "2023-10-22T12:36:44.430Z"
   },
   {
    "duration": 21,
    "start_time": "2023-10-22T12:36:44.454Z"
   },
   {
    "duration": 167,
    "start_time": "2023-10-22T12:36:44.476Z"
   },
   {
    "duration": 548,
    "start_time": "2023-10-22T12:36:44.644Z"
   },
   {
    "duration": 32038,
    "start_time": "2023-10-22T12:36:45.194Z"
   },
   {
    "duration": 13,
    "start_time": "2023-10-22T12:37:17.234Z"
   },
   {
    "duration": 20,
    "start_time": "2023-10-22T12:37:17.248Z"
   },
   {
    "duration": 396,
    "start_time": "2023-10-22T12:37:17.269Z"
   },
   {
    "duration": 12,
    "start_time": "2023-10-22T12:37:17.666Z"
   },
   {
    "duration": 59,
    "start_time": "2023-10-22T12:37:17.680Z"
   },
   {
    "duration": 1004,
    "start_time": "2023-10-22T12:37:17.741Z"
   },
   {
    "duration": 12,
    "start_time": "2023-10-22T12:37:18.747Z"
   },
   {
    "duration": 19,
    "start_time": "2023-10-22T12:37:18.761Z"
   },
   {
    "duration": 10,
    "start_time": "2023-10-22T12:37:18.781Z"
   },
   {
    "duration": 442,
    "start_time": "2023-10-22T12:37:18.792Z"
   },
   {
    "duration": 24,
    "start_time": "2023-10-22T12:38:14.233Z"
   },
   {
    "duration": 4,
    "start_time": "2023-10-22T12:38:17.496Z"
   },
   {
    "duration": 40,
    "start_time": "2023-10-22T12:38:17.502Z"
   },
   {
    "duration": 110,
    "start_time": "2023-10-22T12:38:17.544Z"
   },
   {
    "duration": 4,
    "start_time": "2023-10-22T12:38:17.655Z"
   },
   {
    "duration": 4,
    "start_time": "2023-10-22T12:38:17.661Z"
   },
   {
    "duration": 5,
    "start_time": "2023-10-22T12:38:17.666Z"
   },
   {
    "duration": 14,
    "start_time": "2023-10-22T12:38:17.673Z"
   },
   {
    "duration": 4,
    "start_time": "2023-10-22T12:38:17.688Z"
   },
   {
    "duration": 50,
    "start_time": "2023-10-22T12:38:17.693Z"
   },
   {
    "duration": 5,
    "start_time": "2023-10-22T12:38:17.745Z"
   },
   {
    "duration": 16,
    "start_time": "2023-10-22T12:38:17.752Z"
   },
   {
    "duration": 3,
    "start_time": "2023-10-22T12:38:17.769Z"
   },
   {
    "duration": 10,
    "start_time": "2023-10-22T12:38:17.773Z"
   },
   {
    "duration": 4,
    "start_time": "2023-10-22T12:38:17.784Z"
   },
   {
    "duration": 7,
    "start_time": "2023-10-22T12:38:17.789Z"
   },
   {
    "duration": 5,
    "start_time": "2023-10-22T12:38:17.797Z"
   },
   {
    "duration": 4,
    "start_time": "2023-10-22T12:38:17.803Z"
   },
   {
    "duration": 5,
    "start_time": "2023-10-22T12:38:17.840Z"
   },
   {
    "duration": 346,
    "start_time": "2023-10-22T12:38:17.847Z"
   },
   {
    "duration": 32006,
    "start_time": "2023-10-22T12:38:18.194Z"
   },
   {
    "duration": 22,
    "start_time": "2023-10-22T12:38:50.202Z"
   },
   {
    "duration": 32,
    "start_time": "2023-10-22T12:38:50.225Z"
   },
   {
    "duration": 190,
    "start_time": "2023-10-22T12:38:50.258Z"
   },
   {
    "duration": 445,
    "start_time": "2023-10-22T12:38:50.541Z"
   },
   {
    "duration": 32203,
    "start_time": "2023-10-22T12:38:50.987Z"
   },
   {
    "duration": 10,
    "start_time": "2023-10-22T12:39:23.191Z"
   },
   {
    "duration": 21,
    "start_time": "2023-10-22T12:39:23.203Z"
   },
   {
    "duration": 405,
    "start_time": "2023-10-22T12:39:23.225Z"
   },
   {
    "duration": 14,
    "start_time": "2023-10-22T12:39:23.633Z"
   },
   {
    "duration": 45,
    "start_time": "2023-10-22T12:39:23.648Z"
   },
   {
    "duration": 994,
    "start_time": "2023-10-22T12:39:23.694Z"
   },
   {
    "duration": 13,
    "start_time": "2023-10-22T12:39:24.689Z"
   },
   {
    "duration": 15,
    "start_time": "2023-10-22T12:39:24.703Z"
   },
   {
    "duration": 25,
    "start_time": "2023-10-22T12:39:24.719Z"
   },
   {
    "duration": 427,
    "start_time": "2023-10-22T12:39:24.745Z"
   },
   {
    "duration": 474,
    "start_time": "2023-10-22T12:42:26.877Z"
   }
  ],
  "kernelspec": {
   "display_name": "Python 3 (ipykernel)",
   "language": "python",
   "name": "python3"
  },
  "language_info": {
   "codemirror_mode": {
    "name": "ipython",
    "version": 3
   },
   "file_extension": ".py",
   "mimetype": "text/x-python",
   "name": "python",
   "nbconvert_exporter": "python",
   "pygments_lexer": "ipython3",
   "version": "3.11.5"
  },
  "toc": {
   "base_numbering": 1,
   "nav_menu": {},
   "number_sections": true,
   "sideBar": true,
   "skip_h1_title": true,
   "title_cell": "Содержание",
   "title_sidebar": "Contents",
   "toc_cell": true,
   "toc_position": {
    "height": "calc(100% - 180px)",
    "left": "10px",
    "top": "150px",
    "width": "165px"
   },
   "toc_section_display": true,
   "toc_window_display": true
  }
 },
 "nbformat": 4,
 "nbformat_minor": 2
}
